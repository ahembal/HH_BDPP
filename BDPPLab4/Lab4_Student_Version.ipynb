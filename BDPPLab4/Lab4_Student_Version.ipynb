{
  "cells": [
    {
      "cell_type": "markdown",
      "source": [
        "### Side Info"
      ],
      "metadata": {
        "id": "VFDfNKbU6N9s"
      }
    },
    {
      "cell_type": "code",
      "source": [
        "import cupy as cp\n",
        "import numpy as np\n",
        "array_cpu = np.random.randint(0, 255, size=(2000, 2000))\n",
        "array_cpu.nbytes / 1e6"
      ],
      "metadata": {
        "colab": {
          "base_uri": "https://localhost:8080/"
        },
        "id": "W20aWA661kF9",
        "outputId": "6bbd142f-044f-4672-bd94-e833fcd8d0b5"
      },
      "execution_count": null,
      "outputs": [
        {
          "output_type": "execute_result",
          "data": {
            "text/plain": [
              "32.0"
            ]
          },
          "metadata": {},
          "execution_count": 1
        }
      ]
    },
    {
      "cell_type": "code",
      "source": [
        "%%timeit\n",
        "\n",
        "cp.asarray(array_cpu)"
      ],
      "metadata": {
        "colab": {
          "base_uri": "https://localhost:8080/"
        },
        "id": "rByxeQ8I1j91",
        "outputId": "23beaa2f-2a00-41bb-cf49-45359a19f372"
      },
      "execution_count": null,
      "outputs": [
        {
          "output_type": "stream",
          "name": "stdout",
          "text": [
            "100 loops, best of 5: 5.76 ms per loop\n"
          ]
        }
      ]
    },
    {
      "cell_type": "code",
      "source": [
        "type(array_gpu)"
      ],
      "metadata": {
        "colab": {
          "base_uri": "https://localhost:8080/"
        },
        "id": "S65Ug3cw1j7n",
        "outputId": "1e34824c-2b29-4c08-dffc-76da2b9a37ac"
      },
      "execution_count": null,
      "outputs": [
        {
          "output_type": "execute_result",
          "data": {
            "text/plain": [
              "cupy._core.core.ndarray"
            ]
          },
          "metadata": {},
          "execution_count": 5
        }
      ]
    },
    {
      "cell_type": "code",
      "source": [
        "!nvidia-smi"
      ],
      "metadata": {
        "colab": {
          "base_uri": "https://localhost:8080/"
        },
        "id": "9NM9-z1jDEpY",
        "outputId": "5a261de4-e7b4-41b8-a513-8f1b9da75da0"
      },
      "execution_count": null,
      "outputs": [
        {
          "output_type": "stream",
          "name": "stdout",
          "text": [
            "Mon May 16 09:11:59 2022       \n",
            "+-----------------------------------------------------------------------------+\n",
            "| NVIDIA-SMI 460.32.03    Driver Version: 460.32.03    CUDA Version: 11.2     |\n",
            "|-------------------------------+----------------------+----------------------+\n",
            "| GPU  Name        Persistence-M| Bus-Id        Disp.A | Volatile Uncorr. ECC |\n",
            "| Fan  Temp  Perf  Pwr:Usage/Cap|         Memory-Usage | GPU-Util  Compute M. |\n",
            "|                               |                      |               MIG M. |\n",
            "|===============================+======================+======================|\n",
            "|   0  Tesla K80           Off  | 00000000:00:04.0 Off |                    0 |\n",
            "| N/A   47C    P0    59W / 149W |    195MiB / 11441MiB |      0%      Default |\n",
            "|                               |                      |                  N/A |\n",
            "+-------------------------------+----------------------+----------------------+\n",
            "                                                                               \n",
            "+-----------------------------------------------------------------------------+\n",
            "| Processes:                                                                  |\n",
            "|  GPU   GI   CI        PID   Type   Process name                  GPU Memory |\n",
            "|        ID   ID                                                   Usage      |\n",
            "|=============================================================================|\n",
            "+-----------------------------------------------------------------------------+\n"
          ]
        }
      ]
    },
    {
      "cell_type": "markdown",
      "metadata": {
        "pycharm": {
          "name": "#%% md\n"
        },
        "id": "4aBBWYyivEfN"
      },
      "source": [
        "# Lab4: GPU Programming Lab\n",
        "\n",
        "### Name: Write your names (Group)"
      ]
    },
    {
      "cell_type": "markdown",
      "metadata": {
        "pycharm": {
          "name": "#%% md\n"
        },
        "id": "2JO890skvEfR"
      },
      "source": [
        "\n",
        "This lab is an introduction of GPU programming with cuda using python. The consists of 4 questions and a homework. \n",
        "\n",
        "- <font color='red'><b> After each exercise, write a detailed summary explaining what you have done, your observations and  conclusions. </b></font>\n",
        "- <font color='red'><b> Make sure to write your name and your partner name (as registred in Halmstad University) in the name section above. </b></font>\n",
        "    \n",
        "- <font color='red'><b> You can do the lab in a group of a maximum of two students. </b></font>\n",
        "\n",
        "- <font color='red'><b> Only one of the students upload the lab to the blackboard. </b></font>\n",
        "\n",
        "# CUDA\n",
        "CUDA is a parallel programming platform and an API that facilitates the access to the CUDA-Enabled GPU functuonality for general purpose computing. It allows speeding up the software by utilizing the GPU power for the parallelizable part of the computation. Many Deep Learning platforms like tenserflow, keras, pytorch and others, rely on CUDA for their computations.\n",
        "\n",
        "## Common CUDA terminology:\n",
        "- <b>Host:</b> The CPU\n",
        "- <b>Device:</b> The GPU\n",
        "- <b>Host Memory:</b> The system main memory\n",
        "- <b>Device Memory:</b> The GPU onboard memory\n",
        "- <b>kernel:</b> A function that runs on the Device\n",
        "\n",
        "Threads are organized into a grid of blocks, where each block contains a subset of the threads that can cooperate using a block shared memory and can synchronize within each block.\n",
        "\n",
        "<img src='https://drive.google.com/uc?id=1QzXBVWki0M80KKY_CPzQu1ivE3fAcf2U' width=\"50%\" height=\"50%\"></img>\n",
        "\n",
        "\n",
        "Parallel portions of an application are executed on the device (GPU) as kernels, where an array of threads excutes each kernel. Each thread has an ID, by which it controls the portion of the data to excute the Kernel. All threads runs the same code on different portions of the data. Grids and Blocls can be organized as 1D, 2D, or 3D arrays. \n",
        "\n",
        "<img src='https://drive.google.com/uc?id=1vqh749XFQhfZwq7m7E-VXscBblh58mei' width=\"50%\" height=\"50%\"></img>\n"
      ]
    },
    {
      "cell_type": "markdown",
      "metadata": {
        "pycharm": {
          "name": "#%% md\n"
        },
        "id": "ubepsKWxvEfS"
      },
      "source": [
        "# Numba\n",
        "CUDA is designed to work with C++, but in this Lab we will work with Numba; a Python JIT compiler that translates subsets of the code into machine code, and enables writing a parallel GPU algorithms in Python"
      ]
    },
    {
      "cell_type": "markdown",
      "metadata": {
        "pycharm": {
          "name": "#%% md\n"
        },
        "id": "52jSK5jkvEfS"
      },
      "source": [
        "## Numba installation\n",
        "\n",
        "\n",
        "conda install numba\n",
        "\n",
        "pip install numba"
      ]
    },
    {
      "cell_type": "code",
      "source": [
        "!pip install numba"
      ],
      "metadata": {
        "colab": {
          "base_uri": "https://localhost:8080/"
        },
        "id": "BpHcI_Z4mKwE",
        "outputId": "be04b17c-2bee-4d02-d9e9-5b26309dcb95"
      },
      "execution_count": null,
      "outputs": [
        {
          "output_type": "stream",
          "name": "stdout",
          "text": [
            "Requirement already satisfied: numba in /usr/local/lib/python3.7/dist-packages (0.51.2)\n",
            "Requirement already satisfied: numpy>=1.15 in /usr/local/lib/python3.7/dist-packages (from numba) (1.21.6)\n",
            "Requirement already satisfied: llvmlite<0.35,>=0.34.0.dev0 in /usr/local/lib/python3.7/dist-packages (from numba) (0.34.0)\n",
            "Requirement already satisfied: setuptools in /usr/local/lib/python3.7/dist-packages (from numba) (57.4.0)\n"
          ]
        }
      ]
    },
    {
      "cell_type": "markdown",
      "metadata": {
        "pycharm": {
          "name": "#%% md\n"
        },
        "id": "GkuAVCEdvEfT"
      },
      "source": [
        "# Kernel \n",
        "- A Kernel is declared as a function with @cuda.jit decorator.\n",
        "- A Kernel function cannot have a return value and manages outputs as input-output arrays"
      ]
    },
    {
      "cell_type": "markdown",
      "source": [
        "Always check that you are accessing valid memory"
      ],
      "metadata": {
        "id": "wjrT2K0WACoY"
      }
    },
    {
      "cell_type": "code",
      "execution_count": 1,
      "metadata": {
        "pycharm": {
          "name": "#%%\n"
        },
        "id": "Jis_spcGvEfT"
      },
      "outputs": [],
      "source": [
        "import numpy as np\n",
        "import math\n",
        "import numba as nb\n",
        "from numba import cuda\n",
        "import time"
      ]
    },
    {
      "cell_type": "code",
      "source": [
        "A = np.random.randint(0, 3, size=(3, 4))\n",
        "A"
      ],
      "metadata": {
        "colab": {
          "base_uri": "https://localhost:8080/"
        },
        "id": "C7EjBMMx-KMr",
        "outputId": "89275e81-2bec-496c-b237-53ec0b77e9f8"
      },
      "execution_count": null,
      "outputs": [
        {
          "output_type": "execute_result",
          "data": {
            "text/plain": [
              "array([[0, 0, 0, 0],\n",
              "       [0, 2, 0, 2],\n",
              "       [1, 0, 0, 2]])"
            ]
          },
          "metadata": {},
          "execution_count": 2
        }
      ]
    },
    {
      "cell_type": "code",
      "execution_count": null,
      "metadata": {
        "pycharm": {
          "name": "#%%\n"
        },
        "id": "BNRUv4RDvEfU"
      },
      "outputs": [],
      "source": [
        "# kernel decleration\n",
        "@cuda.jit\n",
        "def my_kernel(io_array):\n",
        "    # code here\n",
        "    pass\n"
      ]
    },
    {
      "cell_type": "markdown",
      "metadata": {
        "pycharm": {
          "name": "#%% md\n"
        },
        "id": "YxNRsxtPvEfV"
      },
      "source": [
        "To invoc a kernal you have to specify number of blocks in the grid, and the number of threads per block. This can be done by specifying the number of threads per block and calculating how many blocks are required in the grid based on the size of the data.\n",
        "\n",
        "<font color=red>Important note: In the case that the data size is not divisable by the the number of thread per block, we take the ceiling of the number to reserve an extra block for the remaining part of the data. So the threads in the last block will not be fully occupied.</font>"
      ]
    },
    {
      "cell_type": "code",
      "execution_count": null,
      "metadata": {
        "pycharm": {
          "name": "#%%\n"
        },
        "id": "vErVcG5CvEfV"
      },
      "outputs": [],
      "source": [
        "# kernel invocation\n",
        "data = np.ones(256)\n",
        "threadsperblock = 32\n",
        "blockspergrid = math.ceil(len(data)/threadsperblock)\n",
        "my_kernel[blockspergrid, threadsperblock](data)\n"
      ]
    },
    {
      "cell_type": "code",
      "source": [
        "len(data)/9"
      ],
      "metadata": {
        "colab": {
          "base_uri": "https://localhost:8080/"
        },
        "id": "CRHcnzMcNlOB",
        "outputId": "2f874489-671e-41f7-d154-04c85ab9d5c9"
      },
      "execution_count": null,
      "outputs": [
        {
          "output_type": "execute_result",
          "data": {
            "text/plain": [
              "28.444444444444443"
            ]
          },
          "metadata": {},
          "execution_count": 9
        }
      ]
    },
    {
      "cell_type": "code",
      "source": [
        "math.ceil(len(data)/9)"
      ],
      "metadata": {
        "colab": {
          "base_uri": "https://localhost:8080/"
        },
        "id": "YLffEACgGjW7",
        "outputId": "10257473-242b-4fea-b1f2-ae81eeed9826"
      },
      "execution_count": null,
      "outputs": [
        {
          "output_type": "execute_result",
          "data": {
            "text/plain": [
              "29"
            ]
          },
          "metadata": {},
          "execution_count": 10
        }
      ]
    },
    {
      "cell_type": "markdown",
      "metadata": {
        "pycharm": {
          "name": "#%% md\n"
        },
        "id": "PzoWfSZpvEfW"
      },
      "source": [
        "## Exercise 1: Element-wise operation\n",
        "\n",
        "The following kernel takes 1D array as input and computes the element-wise cube-root x^(1/3) for each element in the array. This an example of an arbitrary costy operation.\n",
        "\n",
        "- pos: holds the position in the data on which the thread will work.\n",
        "- Always check if the position exceeds the length of the data for the sake of cases when the data length is not devisable by the number of threads per block.\n",
        "\n",
        "<img src='https://drive.google.com/uc?id=1AndzjaLH-Lc7N4cg1Ue_zEB3EyJni89N' width=\"50%\" height=\"50%\"></img>\n",
        "\n",
        "Read the code below and compute the position of the thread on which it will do the computation in the output array."
      ]
    },
    {
      "cell_type": "code",
      "execution_count": null,
      "metadata": {
        "pycharm": {
          "name": "#%%\n"
        },
        "id": "Ww7-uXZ9vEfW"
      },
      "outputs": [],
      "source": [
        "# kernel decleration\n",
        "@cuda.jit\n",
        "def my_kernel(io_array):\n",
        "    # Thread id in a 1D block\n",
        "    tx = cuda.threadIdx.x\n",
        "    # Block id in a 1D grid\n",
        "    bx = cuda.blockIdx.x\n",
        "    # Block width, i.e. number of threads per block\n",
        "    bw = cuda.blockDim.x\n",
        "    \n",
        "    # Compute flattened index inside the array\n",
        "    # pos = cuda.grid(1) # this function returns the same value for the position in a 1D grid\n",
        "    \n",
        "    #TODO: compute the correct pos value based on the tread index and the block index and the block width\n",
        "    pos = (bx * bw) + tx\n",
        "    \n",
        "    if pos < io_array.size:\n",
        "        io_array[pos] = io_array[pos]**(1/3)\n",
        "        \n",
        "\n",
        "# kernel invocation\n",
        "data = np.ones(2048)\n",
        "threadsperblock = 256\n",
        "blockspergrid = math.ceil(data.shape[0] / threadsperblock)\n",
        "my_kernel[blockspergrid, threadsperblock](data)\n"
      ]
    },
    {
      "cell_type": "code",
      "execution_count": null,
      "metadata": {
        "pycharm": {
          "name": "#%%\n"
        },
        "colab": {
          "base_uri": "https://localhost:8080/"
        },
        "id": "44Jzcn_9vEfW",
        "outputId": "c5de3e87-e73b-4185-f52a-57a6acd486a2"
      },
      "outputs": [
        {
          "output_type": "stream",
          "name": "stdout",
          "text": [
            "1 loop, best of 5: 239 ms per loop\n"
          ]
        }
      ],
      "source": [
        "data = np.ones(10000000)\n",
        "%timeit np.cbrt(data)"
      ]
    },
    {
      "cell_type": "code",
      "source": [
        "data = np.ones(20000000)\n",
        "%timeit np.cbrt(data)"
      ],
      "metadata": {
        "colab": {
          "base_uri": "https://localhost:8080/"
        },
        "id": "_MOFNZRLMUA3",
        "outputId": "afe872fb-c85b-4fb1-e611-a4aa1c69712c"
      },
      "execution_count": null,
      "outputs": [
        {
          "output_type": "stream",
          "name": "stdout",
          "text": [
            "1 loop, best of 5: 466 ms per loop\n"
          ]
        }
      ]
    },
    {
      "cell_type": "code",
      "source": [
        "data = np.ones(30000000)\n",
        "%timeit np.cbrt(data)"
      ],
      "metadata": {
        "colab": {
          "base_uri": "https://localhost:8080/"
        },
        "id": "aLAsn_ryMW4B",
        "outputId": "82e9509e-1a11-4f45-9f91-ab5b3fb856a4"
      },
      "execution_count": null,
      "outputs": [
        {
          "output_type": "stream",
          "name": "stdout",
          "text": [
            "1 loop, best of 5: 729 ms per loop\n"
          ]
        }
      ]
    },
    {
      "cell_type": "code",
      "source": [
        "data = np.ones(40000000)\n",
        "%timeit np.cbrt(data)"
      ],
      "metadata": {
        "colab": {
          "base_uri": "https://localhost:8080/"
        },
        "id": "cwBHM0gpkRTV",
        "outputId": "4f7ccc5f-0a24-46d8-fed4-5aa2b58c0d72"
      },
      "execution_count": null,
      "outputs": [
        {
          "output_type": "stream",
          "name": "stdout",
          "text": [
            "1 loop, best of 5: 955 ms per loop\n"
          ]
        }
      ]
    },
    {
      "cell_type": "code",
      "source": [
        "data = np.ones(50000000)\n",
        "%timeit np.cbrt(data)"
      ],
      "metadata": {
        "colab": {
          "base_uri": "https://localhost:8080/"
        },
        "id": "nXdtPi-VkTbm",
        "outputId": "3e2aad33-775a-4a57-ecfa-49d806a86e96"
      },
      "execution_count": null,
      "outputs": [
        {
          "output_type": "stream",
          "name": "stdout",
          "text": [
            "1 loop, best of 5: 1.17 s per loop\n"
          ]
        }
      ]
    },
    {
      "cell_type": "code",
      "execution_count": null,
      "metadata": {
        "pycharm": {
          "name": "#%%\n"
        },
        "colab": {
          "base_uri": "https://localhost:8080/"
        },
        "id": "MP-YD0R2vEfX",
        "outputId": "76ef0d3a-3247-413b-b05a-c6837b3fec7a"
      },
      "outputs": [
        {
          "output_type": "stream",
          "name": "stdout",
          "text": [
            "10 loops, best of 5: 25.6 ms per loop\n"
          ]
        }
      ],
      "source": [
        "data = np.ones(10000000)\n",
        "threadsperblock = 1024\n",
        "blockspergrid = math.ceil(data.shape[0] / threadsperblock)\n",
        "%timeit my_kernel[blockspergrid, threadsperblock](data)"
      ]
    },
    {
      "cell_type": "code",
      "source": [
        "data = np.ones(20000000)\n",
        "threadsperblock = 1024\n",
        "blockspergrid = math.ceil(data.shape[0] / threadsperblock)\n",
        "%timeit my_kernel[blockspergrid, threadsperblock](data)"
      ],
      "metadata": {
        "colab": {
          "base_uri": "https://localhost:8080/"
        },
        "id": "rA26hmBLNNGj",
        "outputId": "47874e84-b038-4ebb-b338-e7b2edb5bf06"
      },
      "execution_count": null,
      "outputs": [
        {
          "output_type": "stream",
          "name": "stdout",
          "text": [
            "10 loops, best of 5: 59 ms per loop\n"
          ]
        }
      ]
    },
    {
      "cell_type": "code",
      "source": [
        "data = np.ones(30000000)\n",
        "threadsperblock = 1024\n",
        "blockspergrid = math.ceil(data.shape[0] / threadsperblock)\n",
        "%timeit my_kernel[blockspergrid, threadsperblock](data)"
      ],
      "metadata": {
        "colab": {
          "base_uri": "https://localhost:8080/"
        },
        "id": "dy5NctPgNPgy",
        "outputId": "6a89c416-5eea-49ac-9dd9-728e719c4401"
      },
      "execution_count": null,
      "outputs": [
        {
          "output_type": "stream",
          "name": "stdout",
          "text": [
            "10 loops, best of 5: 84.7 ms per loop\n"
          ]
        }
      ]
    },
    {
      "cell_type": "code",
      "source": [
        "data = np.ones(40000000)\n",
        "threadsperblock = 1024\n",
        "blockspergrid = math.ceil(data.shape[0] / threadsperblock)\n",
        "%timeit my_kernel[blockspergrid, threadsperblock](data)"
      ],
      "metadata": {
        "colab": {
          "base_uri": "https://localhost:8080/"
        },
        "id": "XZEZgQPSkb2Y",
        "outputId": "b4741b51-b302-4602-ebbd-98392676892f"
      },
      "execution_count": null,
      "outputs": [
        {
          "output_type": "stream",
          "name": "stdout",
          "text": [
            "10 loops, best of 5: 108 ms per loop\n"
          ]
        }
      ]
    },
    {
      "cell_type": "code",
      "source": [
        "data = np.ones(50000000)\n",
        "threadsperblock = 1024\n",
        "blockspergrid = math.ceil(data.shape[0] / threadsperblock)\n",
        "%timeit my_kernel[blockspergrid, threadsperblock](data)"
      ],
      "metadata": {
        "colab": {
          "base_uri": "https://localhost:8080/"
        },
        "id": "L5s-_1Hekbso",
        "outputId": "826b863d-e89f-4d29-9309-bf4053c1ad19"
      },
      "execution_count": null,
      "outputs": [
        {
          "output_type": "stream",
          "name": "stdout",
          "text": [
            "1 loop, best of 5: 110 ms per loop\n"
          ]
        }
      ]
    },
    {
      "cell_type": "code",
      "source": [
        "data = 1\n",
        "del(data)\n",
        "data = np.ones(1250000000)\n",
        "(data.nbytes /1e6)"
      ],
      "metadata": {
        "colab": {
          "base_uri": "https://localhost:8080/"
        },
        "id": "M14Vb7_SNyY0",
        "outputId": "c099bfbb-1301-43b9-c091-7eb8e3c0bcba"
      },
      "execution_count": null,
      "outputs": [
        {
          "output_type": "execute_result",
          "data": {
            "text/plain": [
              "10000.0"
            ]
          },
          "metadata": {},
          "execution_count": 5
        }
      ]
    },
    {
      "cell_type": "code",
      "source": [
        "inputs_M = [10, 20, 30, 40, 50]\n",
        "cpu_times_ms = [239, 466, 729, 955, 1170]\n",
        "gpu_times_ms = [25.6, 59, 84.7, 108, 110]\n",
        "normalized = [int(a/b) for a,b in zip(cpu_times_ms, gpu_times_ms)]\n",
        "normalized"
      ],
      "metadata": {
        "colab": {
          "base_uri": "https://localhost:8080/"
        },
        "id": "gytUJ5mPkl8Z",
        "outputId": "9172a415-5c5d-4127-b8b0-ea9ca4c7accd"
      },
      "execution_count": null,
      "outputs": [
        {
          "output_type": "execute_result",
          "data": {
            "text/plain": [
              "[9, 7, 8, 8, 10]"
            ]
          },
          "metadata": {},
          "execution_count": 9
        }
      ]
    },
    {
      "cell_type": "code",
      "source": [
        "inputs_M = [10, 50, 250]\n",
        "cpu_times_ms = [278, 13500, 68300]\n",
        "gpu_times_ms = [23.6, 120, 636]\n",
        "normalized = [int(a/b) for a,b in zip(cpu_times_ms, gpu_times_ms)]\n",
        "normalized"
      ],
      "metadata": {
        "colab": {
          "base_uri": "https://localhost:8080/"
        },
        "id": "t0JtlrY-OjSw",
        "outputId": "0076f5e7-f228-4b2b-826d-5519cf117b84"
      },
      "execution_count": null,
      "outputs": [
        {
          "output_type": "execute_result",
          "data": {
            "text/plain": [
              "[11, 112, 107]"
            ]
          },
          "metadata": {},
          "execution_count": 2
        }
      ]
    },
    {
      "cell_type": "code",
      "source": [
        "import matplotlib.pyplot as plt\n",
        "\n",
        "width = 4  # the width of the bars\n",
        "base_line = [1,1,1,1,1]\n",
        "xs = inputs_M\n",
        "fig, (ax1, ax2) = plt.subplots(1,2, figsize=(12, 6))\n",
        "\n",
        "ax1.bar([x - width/2 for x in xs], normalized, width, label='CPU')\n",
        "ax1.bar([x + width/2 for x in xs], base_line, width, label='GPU')\n",
        "\n",
        "# Add some text for labels, title and custom x-axis tick labels, etc.\n",
        "ax1.set_xlabel('Input array length (10M)')\n",
        "ax1.set_ylabel('Execution Time (Normalized)')\n",
        "ax1.set_title('Scores')\n",
        "ax1.set_xticks(xs)\n",
        "ax1.legend()\n",
        "\n",
        "\n",
        "ax2.bar([x - width/2 for x in xs], cpu_times_ms, width, label='CPU')\n",
        "ax2.bar([x + width/2 for x in xs], gpu_times_ms, width, label='GPU')\n",
        "\n",
        "# Add some text for labels, title and custom x-axis tick labels, etc.\n",
        "ax2.set_xlabel('Input array length (10M)')\n",
        "ax2.set_ylabel('Execution Time (ms)')\n",
        "ax2.set_title('Scores')\n",
        "ax2.set_xticks(xs)\n",
        "ax2.legend()\n",
        "# ax.bar_label(rects1, padding=3)\n",
        "# ax.bar_label(rects2, padding=3)\n",
        "\n",
        "fig.tight_layout()\n",
        "\n",
        "plt.show()"
      ],
      "metadata": {
        "colab": {
          "base_uri": "https://localhost:8080/",
          "height": 441
        },
        "id": "dVvRBRCLRjII",
        "outputId": "c0ea81a3-d22a-40f0-c522-d27521aafc3a"
      },
      "execution_count": null,
      "outputs": [
        {
          "output_type": "display_data",
          "data": {
            "text/plain": [
              "<Figure size 864x432 with 2 Axes>"
            ],
            "image/png": "[encoded data removed]"
          },
          "metadata": {
            "needs_background": "light"
          }
        }
      ]
    },
    {
      "cell_type": "markdown",
      "metadata": {
        "pycharm": {
          "name": "#%% md\n"
        },
        "id": "ZeFqf5RCvEfX"
      },
      "source": [
        "### Comparison between the previous kernel and Numpy \n",
        "- Try different array sizes and compare between CPU (using numpy) and GPU.\n",
        "- Plot a graph that shows the array sizes on the x axis and the computation time on the y axis of both your kernel and numpy (on the same plot). \n",
        "- Is there a relation between the size of the array and difference in performance? Explain what you notice."
      ]
    },
    {
      "cell_type": "markdown",
      "metadata": {
        "pycharm": {
          "name": "#%% md\n"
        },
        "id": "-EXqAd5pvEfX"
      },
      "source": [
        "### Exercise 1: Results\n"
      ]
    },
    {
      "cell_type": "markdown",
      "source": [
        ""
      ],
      "metadata": {
        "id": "1smhBLnZ3OI2"
      }
    },
    {
      "cell_type": "markdown",
      "metadata": {
        "pycharm": {
          "name": "#%% md\n"
        },
        "id": "l8UOJ60gvEfX"
      },
      "source": [
        "## Exercise 2: Matrix Multiplication\n",
        "\n",
        "In matrix multiplication, every kernel will be reponsible of computing one element of the output matrix. It reads one row from the first matrix (A) and one column form the second matrix (B) and computes the dot product of these two vectors and place it in the corresponding cell in the output matrix (C) as shown in the following figure.\n",
        "\n",
        "<img src='https://drive.google.com/uc?id=16EMuj46QLdwKmIDPU0P6AepZ9SNssb2s' width=\"50%\" height=\"50%\"></img>\n",
        "\n",
        "Write a kernel to do the multiplication of two matrices."
      ]
    },
    {
      "cell_type": "code",
      "execution_count": null,
      "metadata": {
        "pycharm": {
          "name": "#%%\n"
        },
        "id": "2LI9WbtovEfY"
      },
      "outputs": [],
      "source": [
        "# CUDA kernel\n",
        "@cuda.jit\n",
        "def mat_mul(A, B, C):\n",
        "    # get the 2D position of the thread in which it will compute the dot product of the corresponding vectors \n",
        "    row, col = cuda.grid(2)\n",
        "    \n",
        "    if row < A.shape[0] and col < B.shape[1]:\n",
        "        prod = 0.\n",
        "        for k in range(A.shape[1]):\n",
        "          prod += A[row, k] * B[k, col]\n",
        "        C[row, col] = prod\n",
        "\n",
        "\n"
      ]
    },
    {
      "cell_type": "markdown",
      "metadata": {
        "pycharm": {
          "name": "#%% md\n"
        },
        "id": "c52qzMY2vEfY"
      },
      "source": [
        "### Create a host function to invoke the kernel\n",
        "\n",
        "It is a good practice to manually copy the matrices to Device (the GPU memory) using \"cuda.to_device\" to reduce the unnecessary data transfer between the device and the host.\n",
        "\n",
        "\n",
        "To test the kernel \"mat_mul\" we prepare the host function \"gpu_dot\" which will take two matrices as parameters and returns the output matrix. The job of this host function is to perpare the data and to invoke the kernel.\n",
        "\n",
        "Read the code below and calculate how many blocks are required to start the kernel. Use the calculated values to invoke the kernel."
      ]
    },
    {
      "cell_type": "code",
      "execution_count": null,
      "metadata": {
        "pycharm": {
          "name": "#%%\n"
        },
        "id": "oRx1-EHTvEfY"
      },
      "outputs": [],
      "source": [
        "def gpu_dot(A, B):\n",
        "    #Copy the input matrices to the gpu\n",
        "    start_copy_time = time.time()\n",
        "    A_global_mem = cuda.to_device(A)\n",
        "    B_global_mem = cuda.to_device(B)\n",
        "\n",
        "    # Allocate memory on the device for the result (Note the shape of the output matrix)\n",
        "    C_global_mem = cuda.device_array((A.shape[0], B.shape[1]), np.float32)\n",
        "    \n",
        "    # Configure the blocks\n",
        "    # Specify how many threads per block\n",
        "    threadsperblock = (32, 32)\n",
        "    \n",
        "    #TODO: Calculate how many blocks are required\n",
        "    blockspergrid_x = math.ceil(A.shape[0] / threadsperblock[0])\n",
        "    blockspergrid_y = math.ceil(B.shape[1] / threadsperblock[1])\n",
        "    blockspergrid = (blockspergrid_x, blockspergrid_y)\n",
        "    dt = time.time()-start_copy_time\n",
        "    print(f'Copying Input to GPU time: {dt} s')\n",
        "    start_mult_time = time.time()\n",
        "    \n",
        "    #TODO: Start the kernel based on the calculated grid \n",
        "    mat_mul[blockspergrid, threadsperblock](A_global_mem, B_global_mem, C_global_mem)\n",
        "\n",
        "    dt = time.time()-start_mult_time\n",
        "    print(f'Multiplication Time: {dt} s')\n",
        "    # Copy the result back to the host\n",
        "    start_copy_back_time = time.time()\n",
        "    C = C_global_mem.copy_to_host()\n",
        "    dt = time.time()-start_copy_back_time\n",
        "    print(f'Copy result back time: {dt} s')\n",
        "    dt = time.time()-start_copy_time\n",
        "    print(f'Total time: {dt} s')\n",
        "    return C\n",
        "\n"
      ]
    },
    {
      "cell_type": "code",
      "source": [
        "# Input Test arrays\n",
        "A = np.full((2048, 2048), 3, np.float32) # matrix containing all 3's\n",
        "B = np.full((2048, 2048), 4, np.float32) # matrix containing all 4's\n",
        "\n",
        "#Test the host function\n",
        "C = gpu_dot(A,B)\n",
        "print(f'Input Shapes:A:{A.shape}, B:{B.shape}')\n",
        "print('Output Shape:', C.shape)\n",
        "print('Output:',C)\n",
        "print(f'{C.nbytes / 1e6} MB ')"
      ],
      "metadata": {
        "colab": {
          "base_uri": "https://localhost:8080/"
        },
        "id": "qZ9pyMvrp6AR",
        "outputId": "9346d5fc-4659-44b9-a2d4-5910e26a2b5e"
      },
      "execution_count": null,
      "outputs": [
        {
          "output_type": "stream",
          "name": "stdout",
          "text": [
            "Copying Input to GPU time: 0.1419696807861328 s\n",
            "Multiplication Time: 0.36777234077453613 s\n",
            "Copy result back time: 1.9649507999420166 s\n",
            "Total time: 2.4759016036987305 s\n",
            "Input Shapes:A:(2048, 2048), B:(2048, 2048)\n",
            "Output Shape: (2048, 2048)\n",
            "Output: [[24576. 24576. 24576. ... 24576. 24576. 24576.]\n",
            " [24576. 24576. 24576. ... 24576. 24576. 24576.]\n",
            " [24576. 24576. 24576. ... 24576. 24576. 24576.]\n",
            " ...\n",
            " [24576. 24576. 24576. ... 24576. 24576. 24576.]\n",
            " [24576. 24576. 24576. ... 24576. 24576. 24576.]\n",
            " [24576. 24576. 24576. ... 24576. 24576. 24576.]]\n",
            "16.777216 MB \n"
          ]
        }
      ]
    },
    {
      "cell_type": "code",
      "source": [
        "# Input Test arrays\n",
        "A = np.full((16384, 2048), 3, np.float32) # matrix containing all 3's\n",
        "B = np.full((2048, 16384), 4, np.float32) # matrix containing all 4's"
      ],
      "metadata": {
        "id": "aOukS9BqqHh5"
      },
      "execution_count": null,
      "outputs": []
    },
    {
      "cell_type": "markdown",
      "metadata": {
        "pycharm": {
          "name": "#%% md\n"
        },
        "id": "iAKSblU1vEfY"
      },
      "source": [
        "### Testing the calculations time compared to numpy"
      ]
    },
    {
      "cell_type": "code",
      "execution_count": null,
      "metadata": {
        "pycharm": {
          "name": "#%%\n"
        },
        "colab": {
          "base_uri": "https://localhost:8080/"
        },
        "id": "BJI8wSXCvEfZ",
        "outputId": "3d28b62e-139c-4424-8731-c6da8d549700"
      },
      "outputs": [
        {
          "output_type": "stream",
          "name": "stdout",
          "text": [
            "1 loop, best of 5: 242 ms per loop\n",
            "CPU calculation time: 1.505669355392456 s\n"
          ]
        }
      ],
      "source": [
        "start_time = time.time()\n",
        "%timeit np.dot(A,B)\n",
        "dt = time.time()- start_time\n",
        "print(f'CPU calculation time: {dt} s')"
      ]
    },
    {
      "cell_type": "markdown",
      "metadata": {
        "pycharm": {
          "name": "#%% md\n"
        },
        "id": "WePpBboKvEfZ"
      },
      "source": [
        "### Comparison between the previous gpu_dot and Numpy.dot\n",
        "- Try different array sizes and compare between CPU (using np.dot) and GPU (using gpu_dot).\n",
        "- Plot a graph that shows the array sizes (bacause it is a 2D matrix, you can consider the size to be the hight x width) on the x axis and the computation time on the y axis of both your kernel and numpy (on the same plot). \n",
        "- Explain what you notice."
      ]
    },
    {
      "cell_type": "markdown",
      "source": [
        "test_values = (()2048,2048)(2048,2048)"
      ],
      "metadata": {
        "id": "Gr2wQe6_rMwE"
      }
    },
    {
      "cell_type": "code",
      "source": [
        "A = np.full((2048, 4096), 3, np.float32) # matrix containing all 3's\n",
        "B = np.full((4096, 2048), 4, np.float32) # matrix containing all 4's\n",
        "C = gpu_dot(A,B)"
      ],
      "metadata": {
        "colab": {
          "base_uri": "https://localhost:8080/"
        },
        "id": "r6z3f1PhqpWo",
        "outputId": "c06488dd-f0f1-4cd1-c6c3-a9efce8e2ab2"
      },
      "execution_count": null,
      "outputs": [
        {
          "output_type": "stream",
          "name": "stdout",
          "text": [
            "Copying Input to GPU time: 0.011709213256835938 s\n",
            "Multiplication Time: 0.0024886131286621094 s\n",
            "Copy result back time: 3.7905967235565186 s\n",
            "Total time: 3.805438995361328 s\n"
          ]
        }
      ]
    },
    {
      "cell_type": "code",
      "source": [
        "start_time = time.time()\n",
        "%timeit np.dot(A,B)\n",
        "dt = time.time()- start_time\n",
        "print(f'CPU calculation time: {dt} s')"
      ],
      "metadata": {
        "colab": {
          "base_uri": "https://localhost:8080/"
        },
        "id": "BGo-464hqv9s",
        "outputId": "266f5387-7b4a-47e0-c7f4-92b92d3b603a"
      },
      "execution_count": null,
      "outputs": [
        {
          "output_type": "stream",
          "name": "stdout",
          "text": [
            "1 loop, best of 5: 475 ms per loop\n",
            "CPU calculation time: 2.9433741569519043 s\n"
          ]
        }
      ]
    },
    {
      "cell_type": "markdown",
      "source": [
        ""
      ],
      "metadata": {
        "id": "4VdkyFpCrL0U"
      }
    },
    {
      "cell_type": "code",
      "source": [
        "A = np.full((4096, 2048), 3, np.float32) # matrix containing all 3's\n",
        "B = np.full((2048, 4096), 4, np.float32) # matrix containing all 4's\n",
        "C = gpu_dot(A,B)"
      ],
      "metadata": {
        "colab": {
          "base_uri": "https://localhost:8080/"
        },
        "id": "vyfrQnmrq7vt",
        "outputId": "8abee58d-7548-4c8c-c773-38bc0ab9d965"
      },
      "execution_count": null,
      "outputs": [
        {
          "output_type": "stream",
          "name": "stdout",
          "text": [
            "Copying Input to GPU time: 0.013916730880737305 s\n",
            "Multiplication Time: 0.0014090538024902344 s\n",
            "Copy result back time: 7.3464415073394775 s\n",
            "Total time: 7.362177848815918 s\n"
          ]
        }
      ]
    },
    {
      "cell_type": "code",
      "source": [
        "start_time = time.time()\n",
        "%timeit np.dot(A,B)\n",
        "dt = time.time()- start_time\n",
        "print(f'CPU calculation time: {dt} s')"
      ],
      "metadata": {
        "colab": {
          "base_uri": "https://localhost:8080/"
        },
        "id": "tg6EPvOcrDvY",
        "outputId": "dbf10329-791e-4bd8-f86d-be9800f3dabb"
      },
      "execution_count": null,
      "outputs": [
        {
          "output_type": "stream",
          "name": "stdout",
          "text": [
            "1 loop, best of 5: 971 ms per loop\n",
            "CPU calculation time: 5.944607496261597 s\n"
          ]
        }
      ]
    },
    {
      "cell_type": "markdown",
      "metadata": {
        "pycharm": {
          "name": "#%% md\n"
        },
        "id": "4cuC_SIzvEfZ"
      },
      "source": [
        "### Exercise 2: Results"
      ]
    },
    {
      "cell_type": "markdown",
      "source": [
        "#### test 1"
      ],
      "metadata": {
        "id": "aeEt7u7QeK8r"
      }
    },
    {
      "cell_type": "code",
      "source": [
        "# Input Test arrays\n",
        "A = np.full((16384, 8192), 3, np.float32) # matrix containing all 3's\n",
        "B = np.full((8192, 16384), 4, np.float32) # matrix containing all 4's\n",
        "print(f'Input Shapes:A:{A.shape}, B:{B.shape}')\n"
      ],
      "metadata": {
        "colab": {
          "base_uri": "https://localhost:8080/"
        },
        "id": "aeJBgjvNbxy-",
        "outputId": "1416654c-b13a-4db8-9721-dda143ceccd2"
      },
      "execution_count": null,
      "outputs": [
        {
          "output_type": "stream",
          "name": "stdout",
          "text": [
            "Input Shapes:A:(16384, 8192), B:(8192, 16384)\n"
          ]
        }
      ]
    },
    {
      "cell_type": "code",
      "source": [
        "#Test the host function\n",
        "C = gpu_dot(A,B)\n",
        "print('Output Shape:', C.shape)\n",
        "print('Output:',C)\n",
        "print(f'{C.nbytes / 1e6} MB ')"
      ],
      "metadata": {
        "colab": {
          "base_uri": "https://localhost:8080/"
        },
        "id": "adqU315abxMr",
        "outputId": "a71aff07-5330-44f4-aa6d-5ac9152bbdd1"
      },
      "execution_count": null,
      "outputs": [
        {
          "output_type": "stream",
          "name": "stdout",
          "text": [
            "Copying Input to GPU time: 0.23486018180847168 s\n",
            "Multiplication Time: 0.0012249946594238281 s\n",
            "Copy result back time: 84.07591605186462 s\n",
            "Total time: 84.31268644332886 s\n",
            "Output Shape: (16384, 16384)\n",
            "Output: [[98304. 98304. 98304. ... 98304. 98304. 98304.]\n",
            " [98304. 98304. 98304. ... 98304. 98304. 98304.]\n",
            " [98304. 98304. 98304. ... 98304. 98304. 98304.]\n",
            " ...\n",
            " [98304. 98304. 98304. ... 98304. 98304. 98304.]\n",
            " [98304. 98304. 98304. ... 98304. 98304. 98304.]\n",
            " [98304. 98304. 98304. ... 98304. 98304. 98304.]]\n",
            "1073.741824 MB \n"
          ]
        }
      ]
    },
    {
      "cell_type": "code",
      "source": [
        "%timeit C_cpu = np.dot(A,B)"
      ],
      "metadata": {
        "colab": {
          "base_uri": "https://localhost:8080/"
        },
        "id": "ZocVG0YNbtJj",
        "outputId": "c5de1f09-cb39-439f-e727-4604a481a242"
      },
      "execution_count": null,
      "outputs": [
        {
          "output_type": "stream",
          "name": "stdout",
          "text": [
            "1 loop, best of 5: 51.5 s per loop\n"
          ]
        }
      ]
    },
    {
      "cell_type": "markdown",
      "source": [
        "#### test 2"
      ],
      "metadata": {
        "id": "CGtbN9PyeHcz"
      }
    },
    {
      "cell_type": "code",
      "source": [
        ""
      ],
      "metadata": {
        "id": "frHQpIuucwZp"
      },
      "execution_count": null,
      "outputs": []
    },
    {
      "cell_type": "markdown",
      "source": [
        "#### plot"
      ],
      "metadata": {
        "id": "Zvh5JbqWe1iA"
      }
    },
    {
      "cell_type": "code",
      "source": [
        "import matplotlib.pyplot as plt\n",
        "\n",
        "plt"
      ],
      "metadata": {
        "id": "Q5LAaqX_cAaO"
      },
      "execution_count": null,
      "outputs": []
    },
    {
      "cell_type": "markdown",
      "metadata": {
        "pycharm": {
          "name": "#%% md\n"
        },
        "id": "m00XZuYWvEfZ"
      },
      "source": [
        "## Exercise 3: Distance Matrix\n",
        "The distance matrix (D) of a data matrix (A) is the matrix that contains the eucleadian distance between each two row vectors as shown in the following figure.\n",
        "\n",
        "<img src='https://drive.google.com/uc?id=1UMMRYmtPW9_Tonq20GBjxsDLrNFYSTdc' width=\"50%\" height=\"50%\"></img>\n",
        "\n",
        "where \n",
        "$$D[i,j]=D[j,i]=dist(A[i,:], A[j,:])$$\n",
        "\n",
        "\n",
        "Use what you have learned in the previous exercises to write a kernel and a host function to compute the distance matrix of a data matrix. \n"
      ]
    },
    {
      "cell_type": "code",
      "source": [
        "A = np.random.randn(1024,1024)"
      ],
      "metadata": {
        "id": "3iGYh_NLf0yi"
      },
      "execution_count": null,
      "outputs": []
    },
    {
      "cell_type": "code",
      "source": [
        "np.linalg.norm(A[1] - A[1])"
      ],
      "metadata": {
        "colab": {
          "base_uri": "https://localhost:8080/"
        },
        "id": "iBLGZS0df1_h",
        "outputId": "f372c803-3f83-4870-ae18-59e566d75075"
      },
      "execution_count": null,
      "outputs": [
        {
          "output_type": "execute_result",
          "data": {
            "text/plain": [
              "0.0"
            ]
          },
          "metadata": {},
          "execution_count": 6
        }
      ]
    },
    {
      "cell_type": "code",
      "source": [
        "A[5]"
      ],
      "metadata": {
        "colab": {
          "base_uri": "https://localhost:8080/"
        },
        "id": "8Wgc-8n3oSfr",
        "outputId": "15d2fefd-d459-4c15-e3ed-727a1fdb9af5"
      },
      "execution_count": null,
      "outputs": [
        {
          "output_type": "execute_result",
          "data": {
            "text/plain": [
              "array([-0.05013608, -0.30763037,  0.08055889, ..., -0.18164328,\n",
              "       -0.14075112, -0.8936805 ])"
            ]
          },
          "metadata": {},
          "execution_count": 22
        }
      ]
    },
    {
      "cell_type": "code",
      "source": [
        "row = A[5]\n",
        "row[1]"
      ],
      "metadata": {
        "colab": {
          "base_uri": "https://localhost:8080/"
        },
        "id": "UsorJJz1mC-Y",
        "outputId": "07060ea5-aee7-4987-8b4a-e3687253e01a"
      },
      "execution_count": null,
      "outputs": [
        {
          "output_type": "execute_result",
          "data": {
            "text/plain": [
              "-0.3076303656852524"
            ]
          },
          "metadata": {},
          "execution_count": 23
        }
      ]
    },
    {
      "cell_type": "code",
      "execution_count": null,
      "metadata": {
        "pycharm": {
          "name": "#%%\n"
        },
        "id": "YUSuBVsqvEfZ",
        "colab": {
          "base_uri": "https://localhost:8080/"
        },
        "outputId": "4174d6d8-bf9d-40f0-a0da-24a1f033fcd9"
      },
      "outputs": [
        {
          "output_type": "stream",
          "name": "stdout",
          "text": [
            "Copying Input to GPU time: 0.08266878128051758 s\n",
            "Calculation Time: 0.5343739986419678 s\n",
            "Copy result back time: 0.0027632713317871094 s\n",
            "Total time: 0.6231272220611572 s\n",
            "[[   0.     2251.712  2073.4802 ... 1998.3772 2087.5635 2222.7778]\n",
            " [2251.712     0.     1820.9113 ... 1900.0314 2059.6135 2081.393 ]\n",
            " [2073.4802 1820.9113    0.     ... 1894.8492 2170.1116 2073.0002]\n",
            " ...\n",
            " [1998.3772 1900.0314 1894.8492 ...    0.     1985.8013 2028.2216]\n",
            " [2087.5635 2059.6135 2170.1116 ... 1985.8013    0.     2140.175 ]\n",
            " [2222.7778 2081.393  2073.0002 ... 2028.2216 2140.175     0.    ]]\n"
          ]
        }
      ],
      "source": [
        "import numpy as np\n",
        "from numba import cuda\n",
        "\n",
        "\n",
        "@cuda.jit()\n",
        "def distance_matrix(mat, out):\n",
        "    # get the 2D position of the thread in which it will compute the dot product of the corresponding vectors \n",
        "    row, col = cuda.grid(2)\n",
        "    #TODO: write a kernel to compute the distance matrix of the input \"mat\" and place the result in \"out\"\n",
        "    # you can optimaze it: calculate half and copy in simetrik box\n",
        "    if row < mat.shape[0] and col < mat.shape[0]:\n",
        "      \n",
        "      r = 0.0\n",
        "      row_data = mat[row]\n",
        "      col_data = mat[col]\n",
        "      for k in range(mat.shape[1]):\n",
        "          r += (row_data[k] - col_data[k])**2\n",
        "      out[row, col] = r\n",
        "\n",
        "\n",
        "def gpu_dist_matrix(mat):\n",
        "    #TODO: write a host function to calculate the grid size and use the calculated values to invoke the \"distance_Matrix\" kernel\n",
        "    #Copy the input matrices to the gpu\n",
        "    start_copy_time = time.time()\n",
        "    input_global_mem = cuda.to_device(mat)\n",
        "    dt = time.time()-start_copy_time\n",
        "    print(f'Copying Input to GPU time: {dt} s')\n",
        "\n",
        "    # Allocate memory on the device for the result (Note the shape of the output matrix)\n",
        "    out_global_mem = cuda.device_array((mat.shape[0], mat.shape[0]), np.float32)\n",
        "\n",
        "    # Specify how many threads per block\n",
        "    threadsperblock = (32, 32)\n",
        "\n",
        "    # Calculate how many blocks are required\n",
        "    blockspergrid_x = math.ceil(mat.shape[0] / threadsperblock[0])\n",
        "    blockspergrid_y = math.ceil(mat.shape[0] / threadsperblock[1])\n",
        "    blockspergrid = (blockspergrid_x, blockspergrid_y)\n",
        "    \n",
        "\n",
        "    start_calc_time = time.time()\n",
        "    distance_matrix[blockspergrid, threadsperblock](mat, out_global_mem)\n",
        "    dt = time.time()-start_calc_time\n",
        "    print(f'Calculation Time: {dt} s')\n",
        "\n",
        "\n",
        "    start_copy_back_time = time.time()\n",
        "    out = out_global_mem.copy_to_host()\n",
        "    dt = time.time() - start_copy_back_time\n",
        "    print(f'Copy result back time: {dt} s')\n",
        "    dt = time.time()-start_copy_time\n",
        "    print(f'Total time: {dt} s')\n",
        "\n",
        "    return out\n",
        "\n",
        "\n",
        "A = np.random.randn(1024,1024)\n",
        "D = gpu_dist_matrix(A)\n",
        "print(D)"
      ]
    },
    {
      "cell_type": "markdown",
      "metadata": {
        "pycharm": {
          "name": "#%% md\n"
        },
        "id": "iqxy4hYbvEfa"
      },
      "source": [
        "# Homework: K-Nearest Neighbors (GPU version)\n",
        "\n",
        "K-Nearest Neighbors is one of the simplest and most intuitive algorithms in machine learning that relies on the principle that close points behave similarly. It is one of the case-based learning algorithms that can learn non-linear complicated decision boundaries with a single hyperparameter, i.e. K the number of nearest neighbors. The problem of this algorithm is that, to find the k nearest neighbors of a specific point, you have to compute the distances to all the points in the training dataset, which is very costly in terms of computation especially with a large amount of data. A great benefit can be achieved by performing such computation on the GPU.\n",
        "\n",
        "Your task is to implement the K-Nearest Neighbors algorithm using python, and Numba, and CUDA programming.\n",
        "Identify the parts of the algorithm that can make use of the GPU and implement them as CUDA kernels.\n",
        "\n",
        "Use the MNIST dataset as an example and implement a K-Nearest Neighbors classifier to classify the image of the digit into its category.\n",
        "\n",
        "Try different numbers of K and figure out the number that maximizes the accuracy of the classifier.\n",
        "Build another K-Nearest Neighbors using the Sciket-learn library and compare the computation time with your GPU-enabled algorithm. \n",
        "\n",
        "You can download MNIST from Keras library: ( https://keras.io/api/datasets/mnist/ )"
      ]
    },
    {
      "cell_type": "markdown",
      "metadata": {
        "pycharm": {
          "name": "#%% md\n"
        },
        "id": "oJ2GlMRLvEfa"
      },
      "source": [
        "### Homework: Reported Time and Accuracy"
      ]
    },
    {
      "cell_type": "markdown",
      "source": [
        "#### import part"
      ],
      "metadata": {
        "id": "pbDiVIpUx8Sj"
      }
    },
    {
      "cell_type": "code",
      "execution_count": 2,
      "metadata": {
        "pycharm": {
          "name": "#%%\n"
        },
        "id": "qrwxZS4wvEfa",
        "colab": {
          "base_uri": "https://localhost:8080/"
        },
        "outputId": "243abfc4-12ca-4122-e0c3-e35619b8a5f9"
      },
      "outputs": [
        {
          "output_type": "stream",
          "name": "stdout",
          "text": [
            "Downloading data from https://storage.googleapis.com/tensorflow/tf-keras-datasets/mnist.npz\n",
            "11493376/11490434 [==============================] - 0s 0us/step\n",
            "11501568/11490434 [==============================] - 0s 0us/step\n"
          ]
        }
      ],
      "source": [
        "import tensorflow as tf\n",
        "import tensorflow.keras as keras\n",
        "import matplotlib.pyplot as plt\n",
        "\n",
        "tf.keras.datasets.mnist.load_data(path=\"mnist.npz\")\n",
        "(x_train, y_train), (x_test, y_test) = keras.datasets.mnist.load_data()\n",
        "assert x_train.shape == (60000, 28, 28)\n",
        "assert x_test.shape == (10000, 28, 28)\n",
        "assert y_train.shape == (60000,)\n",
        "assert y_test.shape == (10000,)"
      ]
    },
    {
      "cell_type": "code",
      "source": [
        "print(x_train.shape, y_train.shape)"
      ],
      "metadata": {
        "colab": {
          "base_uri": "https://localhost:8080/"
        },
        "id": "esMZ3LhOumr0",
        "outputId": "0c295acb-50d4-439c-f099-4e40af6c290c"
      },
      "execution_count": 3,
      "outputs": [
        {
          "output_type": "stream",
          "name": "stdout",
          "text": [
            "(60000, 28, 28) (60000,)\n"
          ]
        }
      ]
    },
    {
      "cell_type": "markdown",
      "source": [
        "#### visualize data"
      ],
      "metadata": {
        "id": "A0vJuW0MyBSp"
      }
    },
    {
      "cell_type": "code",
      "source": [
        "samples = x_train[5000:5030,:]\n",
        "plt.figure(figsize=(15,4.5))\n",
        "for i in range(30):  \n",
        "    plt.subplot(3, 10, i+1)\n",
        "    plt.imshow(samples[i].reshape((28,28)),cmap=plt.cm.binary)\n",
        "    plt.axis('off')\n",
        "plt.subplots_adjust(wspace=-0.1, hspace=-0.1)\n",
        "plt.show()"
      ],
      "metadata": {
        "colab": {
          "base_uri": "https://localhost:8080/",
          "height": 276
        },
        "id": "UK95wO9rxbJX",
        "outputId": "6fd35cfb-ed05-4713-d2a4-733a4ef838bc"
      },
      "execution_count": 4,
      "outputs": [
        {
          "output_type": "display_data",
          "data": {
            "text/plain": [
              "<Figure size 1080x324 with 30 Axes>"
            ],
            "image/png": "[encoded data removed]"
          },
          "metadata": {
            "needs_background": "light"
          }
        }
      ]
    },
    {
      "cell_type": "code",
      "source": [
        "x_train.shape"
      ],
      "metadata": {
        "colab": {
          "base_uri": "https://localhost:8080/"
        },
        "id": "JceUuNqA3Q9B",
        "outputId": "19b807b2-f17e-4e30-b38e-7001aece1fa2"
      },
      "execution_count": 5,
      "outputs": [
        {
          "output_type": "execute_result",
          "data": {
            "text/plain": [
              "(60000, 28, 28)"
            ]
          },
          "metadata": {},
          "execution_count": 5
        }
      ]
    },
    {
      "cell_type": "code",
      "source": [
        "# # first flatten data points \n",
        "# x_train_res = x_train.reshape(60000, 784)\n",
        "# x_test_res = x_test.reshape(10000, 784)\n",
        "\n",
        "# print(x_train_res.shape, x_test_res.shape, y_train.shape, y_test.shape)"
      ],
      "metadata": {
        "id": "XsLHzVCZ3BIZ"
      },
      "execution_count": 6,
      "outputs": []
    },
    {
      "cell_type": "markdown",
      "source": [
        "#### grid search for optimal K First Try"
      ],
      "metadata": {
        "id": "AfDrGLjUyFkY"
      }
    },
    {
      "cell_type": "code",
      "source": [
        "# def dist(u, v):\n",
        "#     res = np.sqrt((u[0]-v[0])**2 + (u[1]-v[1])**2)\n",
        "#     return res\n",
        "\n",
        "@cuda.jit()\n",
        "def distance_value(data_point, dataset, out):\n",
        "    # get the 2D position of the thread in which it will compute the dot product of the corresponding vectors \n",
        "    row, col = cuda.grid(2)\n",
        "    #TODO: write a kernel to compute the distance matrix of the input \"mat\" and place the result in \"out\"\n",
        "    # you can optimaze it: calculate half and copy in simetrik box\n",
        "    if row < 28 and col < 28:\n",
        "      \n",
        "      idx = 0\n",
        "      for i in range(len(dataset)):\n",
        "        result = 0.0\n",
        "        data = dataset[i]\n",
        "        for r in range(28):\n",
        "          for c in range(28):\n",
        "            result += (data_point[r,c] - data[r,c])**2\n",
        "        \n",
        "        out[idx] = result\n",
        "        idx += 1"
      ],
      "metadata": {
        "id": "8upriEC52mOj"
      },
      "execution_count": null,
      "outputs": []
    },
    {
      "cell_type": "code",
      "source": [
        "def find_distances(x, X):\n",
        "    result = []\n",
        "    # TODO: Compute the list of distances from x to each point in X\n",
        "    A_global_mem = cuda.to_device(x)\n",
        "    B_global_mem = cuda.to_device(X)\n",
        "    C_global_mem = cuda.device_array((X.shape[0]), np.float32)\n",
        "\n",
        "    threadsperblock = (28, 28)\n",
        "\n",
        "    blockspergrid_x = math.ceil(X.shape[0] / threadsperblock[0])\n",
        "    blockspergrid_y = math.ceil(X.shape[0] / threadsperblock[1])\n",
        "    blockspergrid = (blockspergrid_x, blockspergrid_y)\n",
        "\n",
        "    distance_value[blockspergrid, threadsperblock](A_global_mem, B_global_mem, C_global_mem)\n",
        "        \n",
        "    C = C_global_mem.copy_to_host()\n",
        "\n",
        "    return C\n",
        "        \n",
        "        \n"
      ],
      "metadata": {
        "id": "FEntmndb6hJ0"
      },
      "execution_count": null,
      "outputs": []
    },
    {
      "cell_type": "code",
      "source": [
        "from collections import Counter\n",
        "def prediction(x, X, y, k=3):\n",
        "\n",
        "    C = find_distances(x=x, X=X)\n",
        "    indices = np.argsort(C)\n",
        "\n",
        "    labels = y[indices < k]\n",
        "    print(labels)\n",
        "\n",
        "    pred = Counter(labels).most_common(1)\n",
        "\n",
        "    return int(pred[0][0]), Counter(labels)"
      ],
      "metadata": {
        "id": "dCUrLYVzD2QJ"
      },
      "execution_count": null,
      "outputs": []
    },
    {
      "cell_type": "code",
      "source": [
        "record = []\n",
        "for x in range(len(x_train[30:33])):\n",
        "    pred, labels = prediction(x_train[x], x_train, y_train, k=4)\n",
        "    record.append((y_train[x], pred ))"
      ],
      "metadata": {
        "colab": {
          "base_uri": "https://localhost:8080/"
        },
        "id": "2izJQh3XHUUP",
        "outputId": "c29f1e48-0953-48f6-e993-33ccfb231384"
      },
      "execution_count": null,
      "outputs": [
        {
          "output_type": "stream",
          "name": "stdout",
          "text": [
            "[5 9 6 8]\n",
            "[5 9 7 5]\n",
            "[5 1 3 2]\n"
          ]
        }
      ]
    },
    {
      "cell_type": "code",
      "source": [
        "print(record)"
      ],
      "metadata": {
        "colab": {
          "base_uri": "https://localhost:8080/"
        },
        "id": "Rxf3atc6OSOx",
        "outputId": "80eeed97-fffa-4e27-ebc8-2d083ff5a275"
      },
      "execution_count": null,
      "outputs": [
        {
          "output_type": "stream",
          "name": "stdout",
          "text": [
            "[(5, 5), (0, 5), (4, 5), (1, 5), (9, 9), (2, 8), (1, 0), (3, 8), (1, 7), (4, 7), (3, 6), (5, 4), (3, 6), (6, 0), (1, 1)]\n"
          ]
        }
      ]
    },
    {
      "cell_type": "code",
      "source": [
        "a=0\n",
        "for i in record:\n",
        "  if i[0]==i[1]:\n",
        "    a+=1\n",
        "print(len(record), a)"
      ],
      "metadata": {
        "colab": {
          "base_uri": "https://localhost:8080/"
        },
        "id": "0wNlvxxL1yKB",
        "outputId": "46ab956f-ec27-495c-d1ef-2cc434a0e896"
      },
      "execution_count": null,
      "outputs": [
        {
          "output_type": "stream",
          "name": "stdout",
          "text": [
            "15 3\n"
          ]
        }
      ]
    },
    {
      "cell_type": "code",
      "source": [
        "import os\n",
        "path = os.getcwd()\n",
        "file_path = path + \"/example.txt\""
      ],
      "metadata": {
        "id": "t5xC9JnUN4Mq"
      },
      "execution_count": null,
      "outputs": []
    },
    {
      "cell_type": "code",
      "source": [
        "with open(file_path, 'w') as fp:\n",
        "    for item in record:\n",
        "        # write each item on a new line\n",
        "        fp.write(\"%s\\n\" % item)\n",
        "    print('Done')"
      ],
      "metadata": {
        "id": "9N9ir42pN8e4"
      },
      "execution_count": null,
      "outputs": []
    },
    {
      "cell_type": "code",
      "source": [
        "from google.colab import files\n",
        "files.download('example.txt')"
      ],
      "metadata": {
        "id": "XcprEkFjNcJx"
      },
      "execution_count": null,
      "outputs": []
    },
    {
      "cell_type": "code",
      "source": [
        "pred, labels = prediction(x_train[111], x_train, y_train, k=22)"
      ],
      "metadata": {
        "colab": {
          "base_uri": "https://localhost:8080/"
        },
        "id": "u8n4_ZGdD2Hv",
        "outputId": "c003a693-737c-464d-d685-cbbb917242af"
      },
      "execution_count": null,
      "outputs": [
        {
          "output_type": "stream",
          "name": "stdout",
          "text": [
            "[5 0 4 1 9 2 1 3 1 4 3 5 3 6 1 7 2 8 6 9 4 0]\n"
          ]
        }
      ]
    },
    {
      "cell_type": "code",
      "source": [
        "pred, labels"
      ],
      "metadata": {
        "colab": {
          "base_uri": "https://localhost:8080/"
        },
        "id": "MP7GDaKrFz3k",
        "outputId": "7020d0cc-9178-484b-99f5-357d90ac13b5"
      },
      "execution_count": null,
      "outputs": [
        {
          "output_type": "execute_result",
          "data": {
            "text/plain": [
              "(1, array([5, 0, 4, 1, 9, 2, 1, 3, 1, 4, 3, 5, 3, 6, 1, 7, 2, 8, 6, 9, 4, 0],\n",
              "       dtype=uint8))"
            ]
          },
          "metadata": {},
          "execution_count": 88
        }
      ]
    },
    {
      "cell_type": "code",
      "source": [
        "print(pred)"
      ],
      "metadata": {
        "colab": {
          "base_uri": "https://localhost:8080/"
        },
        "id": "_3D--tqgEUue",
        "outputId": "15bcecda-f051-4745-f703-306618dac098"
      },
      "execution_count": null,
      "outputs": [
        {
          "output_type": "stream",
          "name": "stdout",
          "text": [
            "1\n"
          ]
        }
      ]
    },
    {
      "cell_type": "code",
      "source": [
        "print(y_train[111])"
      ],
      "metadata": {
        "colab": {
          "base_uri": "https://localhost:8080/"
        },
        "id": "yxYWv6ByEUka",
        "outputId": "f79ae191-2aec-42ba-ea41-e9158fdd8e12"
      },
      "execution_count": null,
      "outputs": [
        {
          "output_type": "stream",
          "name": "stdout",
          "text": [
            "3\n"
          ]
        }
      ]
    },
    {
      "cell_type": "code",
      "source": [
        "len(C)"
      ],
      "metadata": {
        "colab": {
          "base_uri": "https://localhost:8080/"
        },
        "id": "MxM47L6w_H-Y",
        "outputId": "575d6cf1-f1fc-464c-a7e5-974842075e56"
      },
      "execution_count": null,
      "outputs": [
        {
          "output_type": "execute_result",
          "data": {
            "text/plain": [
              "60000"
            ]
          },
          "metadata": {},
          "execution_count": 18
        }
      ]
    },
    {
      "cell_type": "code",
      "source": [
        "min(C), max(C)"
      ],
      "metadata": {
        "colab": {
          "base_uri": "https://localhost:8080/"
        },
        "id": "9IKCC-IvBXTa",
        "outputId": "321232a4-b88d-493a-d637-1cd724842ec3"
      },
      "execution_count": null,
      "outputs": [
        {
          "output_type": "execute_result",
          "data": {
            "text/plain": [
              "(0.0, 399807970000.0)"
            ]
          },
          "metadata": {},
          "execution_count": 21
        }
      ]
    },
    {
      "cell_type": "code",
      "source": [
        "# GRID SEARCH FOR OPTIMAL K\n",
        "accs = []\n",
        "for k in range(3,22):\n",
        "    knn = KNeighborsClassifier(n_neighbors=k)\n",
        "    knn.fit(x_train, y_train)\n",
        "    # Better to use knn.predict() but cuML v0.11.0 has bug\n",
        "    # y_hat = knn.predict(X_test)\n",
        "    y_hat_p = knn.predict_proba(x_test)\n",
        "    acc = (y_hat_p.to_pandas().values.argmax(axis=1)==y_test.to_array() ).sum()/y_test.shape[0]\n",
        "    #print(k,acc)\n",
        "    print(k,', ',end='')\n",
        "    accs.append(acc)"
      ],
      "metadata": {
        "id": "GVIKqfok_HZk"
      },
      "execution_count": null,
      "outputs": []
    },
    {
      "cell_type": "code",
      "source": [
        "c = find_distances(x_train[5], x_train)\n",
        "import matplotlib.pyplot as plt\n",
        "\n",
        "fig = plt.figure(figsize = (10, 5))\n",
        " \n",
        "# creating the bar plot\n",
        "plt.plotm"
      ],
      "metadata": {
        "id": "PGgRsoGHKnz_"
      },
      "execution_count": null,
      "outputs": []
    },
    {
      "cell_type": "markdown",
      "source": [
        "#### Grid Search for optimal K second try"
      ],
      "metadata": {
        "id": "XiTDTe93t5pc"
      }
    },
    {
      "cell_type": "code",
      "source": [
        "# We will send the train dataset and the test dataset to gpu to calculate difference matrix between each elements, \n",
        "# then we will get calculated distances for each test data to find which one the closest one \n",
        "# each thread will be responsible from one image to "
      ],
      "metadata": {
        "id": "zE8KHOaUt8sJ"
      },
      "execution_count": null,
      "outputs": []
    },
    {
      "cell_type": "markdown",
      "source": [
        "![image.png](data:image/png;base64,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)"
      ],
      "metadata": {
        "id": "YE6gYCLov41g"
      }
    },
    {
      "cell_type": "markdown",
      "source": [
        "![image.png](data:image/png;base64,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)"
      ],
      "metadata": {
        "id": "BkNE30S_v6ak"
      }
    },
    {
      "cell_type": "code",
      "source": [
        "# CUDA kernel\n",
        "@cuda.jit\n",
        "def find_differences(A, B):\n",
        "    # get the 2D position of the thread in which it will compute the dot product of the corresponding vectors \n",
        "    row, col = cuda.grid(2)\n",
        "    \n",
        "    if row < A.shape[0] and col < B.shape[0]:\n",
        "        prod = 0.\n",
        "        trd = A[row]\n",
        "        tsd = B[col]\n",
        "        for l in range(28):\n",
        "          for k in range(28):\n",
        "            prod += (trd[l, k] - tsd[l, k])**2\n",
        "\n",
        "        C[row, col] = prod**0.5"
      ],
      "metadata": {
        "id": "pRMp-zXWvg5Z"
      },
      "execution_count": null,
      "outputs": []
    },
    {
      "cell_type": "code",
      "source": [
        "# CUDA kernel\n",
        "@cuda.jit\n",
        "def find_differences(A, B, C):\n",
        "    # get the 2D position of the thread in which it will compute the dot product of the corresponding vectors \n",
        "    row, col = cuda.grid(2)\n",
        "    \n",
        "    if row < A.shape[0] and col < B.shape[0]:\n",
        "        prod = 0.\n",
        "        trd = A[row]\n",
        "        tsd = B[col]\n",
        "        for l in range(28):\n",
        "          for k in range(28):\n",
        "            prod += (trd[l, k] - tsd[l, k])**2\n",
        "\n",
        "        C[row, col] = prod**0.5"
      ],
      "metadata": {
        "id": "J3opJY-Qffi5"
      },
      "execution_count": 11,
      "outputs": []
    },
    {
      "cell_type": "code",
      "source": [
        "def distance_matrix(A, B):\n",
        "    # A is train_dataset (60000,28,28)\n",
        "    # B is test_dataset (10000,28,28)\n",
        "    # Copy the input matrices to the gpu\n",
        "    start_copy_time = time.time()\n",
        "    A_global_mem = cuda.to_device(A)\n",
        "    B_global_mem = cuda.to_device(B)\n",
        "\n",
        "    # Allocate memory on the device for the result (Note the shape of the output matrix)\n",
        "    C_global_mem = cuda.device_array((A.shape[0], B.shape[0]), np.float32)\n",
        "    \n",
        "    # Configure the blocks\n",
        "    # Specify how many threads per block\n",
        "    threadsperblock = (28, 28)\n",
        "    \n",
        "    #TODO: Calculate how many blocks are required\n",
        "    blockspergrid_x = math.ceil(A.shape[0] / threadsperblock[0])\n",
        "    blockspergrid_y = math.ceil(B.shape[0] / threadsperblock[1])\n",
        "    blockspergrid = (blockspergrid_x, blockspergrid_y)\n",
        "    dt = time.time()-start_copy_time\n",
        "    print(f'Copying Input to GPU time: {dt} s')\n",
        "    start_mult_time = time.time()\n",
        "    \n",
        "    #TODO: Start the kernel based on the calculated grid \n",
        "    find_differences[blockspergrid, threadsperblock](A_global_mem, B_global_mem, C_global_mem)\n",
        "\n",
        "    dt = time.time()-start_mult_time\n",
        "    print(f'Multiplication Time: {dt} s')\n",
        "    # Copy the result back to the host\n",
        "    start_copy_back_time = time.time()\n",
        "    C = C_global_mem.copy_to_host()\n",
        "    dt = time.time()-start_copy_back_time\n",
        "    print(f'Copy result back time: {dt} s')\n",
        "    dt = time.time()-start_copy_time\n",
        "    print(f'Total time: {dt} s')\n",
        "    return C"
      ],
      "metadata": {
        "id": "lEzrOlTtwBWU"
      },
      "execution_count": 12,
      "outputs": []
    },
    {
      "cell_type": "code",
      "source": [
        "x_train.shape, x_test.shape"
      ],
      "metadata": {
        "colab": {
          "base_uri": "https://localhost:8080/"
        },
        "id": "sVPkUG3LyAno",
        "outputId": "5ffbaea7-6e99-462d-c93d-c57372e00413"
      },
      "execution_count": 13,
      "outputs": [
        {
          "output_type": "execute_result",
          "data": {
            "text/plain": [
              "((60000, 28, 28), (10000, 28, 28))"
            ]
          },
          "metadata": {},
          "execution_count": 13
        }
      ]
    },
    {
      "cell_type": "code",
      "source": [
        "result_matrix = distance_matrix(x_train, x_test)"
      ],
      "metadata": {
        "colab": {
          "base_uri": "https://localhost:8080/"
        },
        "id": "9qWpr98bwUMb",
        "outputId": "52571882-a828-41ba-ffa7-db4aa89eccab"
      },
      "execution_count": 14,
      "outputs": [
        {
          "output_type": "stream",
          "name": "stdout",
          "text": [
            "Copying Input to GPU time: 0.018406391143798828 s\n",
            "Multiplication Time: 0.6834633350372314 s\n",
            "Copy result back time: 90.94807147979736 s\n",
            "Total time: 91.65037488937378 s\n"
          ]
        }
      ]
    },
    {
      "cell_type": "code",
      "source": [
        "result_matrix.shape"
      ],
      "metadata": {
        "colab": {
          "base_uri": "https://localhost:8080/"
        },
        "id": "5HEV9gSX07_w",
        "outputId": "351f3c49-3ea4-442b-aa83-a4832d142c80"
      },
      "execution_count": 15,
      "outputs": [
        {
          "output_type": "execute_result",
          "data": {
            "text/plain": [
              "(60000, 10000)"
            ]
          },
          "metadata": {},
          "execution_count": 15
        }
      ]
    },
    {
      "cell_type": "code",
      "source": [
        "sorted_result_matrix = np.argsort(result_matrix, axis=0)"
      ],
      "metadata": {
        "id": "exkgojbYTicF"
      },
      "execution_count": 16,
      "outputs": []
    },
    {
      "cell_type": "code",
      "source": [
        "sorted_result_matrix.shape"
      ],
      "metadata": {
        "colab": {
          "base_uri": "https://localhost:8080/"
        },
        "id": "yRWE3923s2uJ",
        "outputId": "c3e8fc93-2d6f-4ed8-e11a-1bd806700f75"
      },
      "execution_count": 20,
      "outputs": [
        {
          "output_type": "execute_result",
          "data": {
            "text/plain": [
              "(60000, 10000)"
            ]
          },
          "metadata": {},
          "execution_count": 20
        }
      ]
    },
    {
      "cell_type": "code",
      "source": [
        "from collections import Counter"
      ],
      "metadata": {
        "id": "tLkEwaKfrwtP"
      },
      "execution_count": 18,
      "outputs": []
    },
    {
      "cell_type": "code",
      "source": [
        "k=3\n",
        "\n",
        "result_list = []\n",
        "for i in range(sorted_result_matrix.shape[1]):\n",
        "  row_data = sorted_result_matrix[:, i]\n",
        "  first_k = row_data[:k]\n",
        "  labels = y_train[first_k]\n",
        "  pred = Counter(labels).most_common(1)[0][0]\n",
        "  real = y_train[i]\n",
        "  result_list.append((i, pred, real))"
      ],
      "metadata": {
        "id": "2lt-qbkTT0mQ"
      },
      "execution_count": null,
      "outputs": []
    },
    {
      "cell_type": "code",
      "source": [
        "result_list"
      ],
      "metadata": {
        "id": "ldbFRe6iXkt2"
      },
      "execution_count": null,
      "outputs": []
    },
    {
      "cell_type": "code",
      "source": [
        "test_row[:3]"
      ],
      "metadata": {
        "colab": {
          "base_uri": "https://localhost:8080/"
        },
        "id": "PR5hTlMPpKH2",
        "outputId": "84987d5a-4acd-40ef-fc6a-a8db916df155"
      },
      "execution_count": null,
      "outputs": [
        {
          "output_type": "execute_result",
          "data": {
            "text/plain": [
              "array([10392, 21693,    96])"
            ]
          },
          "metadata": {},
          "execution_count": 41
        }
      ]
    },
    {
      "cell_type": "code",
      "source": [
        "test_row = sorted_result_matrix[:, 111]\n",
        "y_train[test_row[:3]], y_test[111]"
      ],
      "metadata": {
        "colab": {
          "base_uri": "https://localhost:8080/"
        },
        "id": "DxjF4MQvoiFc",
        "outputId": "21452e1d-d26a-4f3f-9cac-ac172d204b61"
      },
      "execution_count": 22,
      "outputs": [
        {
          "output_type": "execute_result",
          "data": {
            "text/plain": [
              "(array([7, 7, 7], dtype=uint8), 7)"
            ]
          },
          "metadata": {},
          "execution_count": 22
        }
      ]
    },
    {
      "cell_type": "code",
      "source": [
        "aaa = 111\n",
        "test_row = sorted_result_matrix[:, aaa]\n",
        "labels = y_train[test_row[:3]]\n",
        "pred = Counter(labels).most_common(1)[0][0]\n",
        "labels, pred, y_test[aaa]"
      ],
      "metadata": {
        "colab": {
          "base_uri": "https://localhost:8080/"
        },
        "id": "_tUWn6b-UPUW",
        "outputId": "e8cd258f-59ed-4a8c-cde3-ec28fcf67028"
      },
      "execution_count": 24,
      "outputs": [
        {
          "output_type": "execute_result",
          "data": {
            "text/plain": [
              "(array([7, 7, 7], dtype=uint8), 7, 7)"
            ]
          },
          "metadata": {},
          "execution_count": 24
        }
      ]
    },
    {
      "cell_type": "code",
      "source": [
        "def prediction(index, predictions, y, k=3):\n",
        "\n",
        "    indices = np.argsort(predictions)\n",
        "    labels = y[indices < k]\n",
        "\n",
        "    pred = Counter(labels).most_common(1)\n",
        "    real = y[index]\n",
        "    return int(pred[0][0]), Counter(labels), real"
      ],
      "metadata": {
        "id": "jZ1K-FT1WpzC"
      },
      "execution_count": null,
      "outputs": []
    },
    {
      "cell_type": "code",
      "source": [
        "y_train[test_row[:3]]"
      ],
      "metadata": {
        "colab": {
          "base_uri": "https://localhost:8080/"
        },
        "id": "x8mG9WihUSzr",
        "outputId": "934d3791-1d92-4953-a539-6eb667ee96ce"
      },
      "execution_count": null,
      "outputs": [
        {
          "output_type": "execute_result",
          "data": {
            "text/plain": [
              "array([2, 2, 2], dtype=uint8)"
            ]
          },
          "metadata": {},
          "execution_count": 14
        }
      ]
    },
    {
      "cell_type": "code",
      "source": [
        "test = [7,2,3,11,5]\n",
        "res = np.argsort(test)\n",
        "res"
      ],
      "metadata": {
        "colab": {
          "base_uri": "https://localhost:8080/"
        },
        "id": "fQQP4-hB4vpk",
        "outputId": "1760077b-114a-4f49-c0a8-567f90c13287"
      },
      "execution_count": null,
      "outputs": [
        {
          "output_type": "execute_result",
          "data": {
            "text/plain": [
              "array([1, 2, 4, 0, 3])"
            ]
          },
          "metadata": {},
          "execution_count": 51
        }
      ]
    },
    {
      "cell_type": "code",
      "source": [
        "pred, counter, real = prediction(19, row_data, y_train, k=3)\n",
        "pred, counter, real"
      ],
      "metadata": {
        "colab": {
          "base_uri": "https://localhost:8080/"
        },
        "id": "95sP1iBC1web",
        "outputId": "d523d983-8365-4ee8-9b10-ab8c3cfcc192"
      },
      "execution_count": null,
      "outputs": [
        {
          "output_type": "execute_result",
          "data": {
            "text/plain": [
              "(0, Counter({0: 1, 4: 1}), 9)"
            ]
          },
          "metadata": {},
          "execution_count": 67
        }
      ]
    },
    {
      "cell_type": "code",
      "source": [
        "a =np.array([[1, 2, 3], [2, 4, 1], [4, 3, 2], [6, 5, 7]])\n",
        "a"
      ],
      "metadata": {
        "colab": {
          "base_uri": "https://localhost:8080/"
        },
        "id": "RC5DlHgr_m_5",
        "outputId": "bb6cca65-d1e9-4076-f6fa-986535980cd2"
      },
      "execution_count": null,
      "outputs": [
        {
          "output_type": "execute_result",
          "data": {
            "text/plain": [
              "array([[1, 2, 3],\n",
              "       [2, 4, 1],\n",
              "       [4, 3, 2],\n",
              "       [6, 5, 7]])"
            ]
          },
          "metadata": {},
          "execution_count": 103
        }
      ]
    },
    {
      "cell_type": "code",
      "source": [
        "ids = np.argsort(a, axis=0)\n",
        "ids"
      ],
      "metadata": {
        "colab": {
          "base_uri": "https://localhost:8080/"
        },
        "id": "CCqWPy9HAAv2",
        "outputId": "7aec4b1e-d4d8-4e57-9368-4e798a1f3191"
      },
      "execution_count": null,
      "outputs": [
        {
          "output_type": "execute_result",
          "data": {
            "text/plain": [
              "array([[0, 0, 1],\n",
              "       [1, 2, 2],\n",
              "       [2, 1, 0],\n",
              "       [3, 3, 3]])"
            ]
          },
          "metadata": {},
          "execution_count": 102
        }
      ]
    },
    {
      "cell_type": "code",
      "source": [
        "b =[10, 11, 12]"
      ],
      "metadata": {
        "id": "jQ7KsIs1BYVk"
      },
      "execution_count": null,
      "outputs": []
    },
    {
      "cell_type": "code",
      "source": [
        "aa[ids < 1]"
      ],
      "metadata": {
        "colab": {
          "base_uri": "https://localhost:8080/"
        },
        "id": "3RRLq3VoAkxl",
        "outputId": "e68ed1c2-a652-4122-c589-7a8cb38f4b03"
      },
      "execution_count": null,
      "outputs": [
        {
          "output_type": "execute_result",
          "data": {
            "text/plain": [
              "array([1, 4, 2, 5])"
            ]
          },
          "metadata": {},
          "execution_count": 84
        }
      ]
    },
    {
      "cell_type": "code",
      "source": [
        "from collections import Counter\n",
        "def prediction(index, predictions, y, k=3):\n",
        "\n",
        "    indices = np.argsort(predictions)\n",
        "    labels = y[indices < k]\n",
        "\n",
        "    pred = Counter(labels).most_common(1)\n",
        "    real = y[index]\n",
        "    return int(pred[0][0]), Counter(labels), real"
      ],
      "metadata": {
        "id": "-RnZM2yO1R2Z"
      },
      "execution_count": null,
      "outputs": []
    },
    {
      "cell_type": "code",
      "source": [
        "result_matrix.shape"
      ],
      "metadata": {
        "colab": {
          "base_uri": "https://localhost:8080/"
        },
        "id": "soRMrNTa8Bc3",
        "outputId": "601146cf-0537-4a13-de54-ab0a2837b7af"
      },
      "execution_count": null,
      "outputs": [
        {
          "output_type": "execute_result",
          "data": {
            "text/plain": [
              "(60000, 10000)"
            ]
          },
          "metadata": {},
          "execution_count": 64
        }
      ]
    },
    {
      "cell_type": "code",
      "source": [
        "temp_matrix = result_matrix[:,:3]\n",
        "temp_matrix.shape"
      ],
      "metadata": {
        "colab": {
          "base_uri": "https://localhost:8080/"
        },
        "id": "tBokkaaG9BDe",
        "outputId": "896822dd-c978-4176-c932-70b6c9409159"
      },
      "execution_count": null,
      "outputs": [
        {
          "output_type": "execute_result",
          "data": {
            "text/plain": [
              "(60000, 3)"
            ]
          },
          "metadata": {},
          "execution_count": 70
        }
      ]
    },
    {
      "cell_type": "code",
      "source": [
        "for i in temp_matrix.T:\n",
        "  first"
      ],
      "metadata": {
        "id": "PsOeEf1bZ__0"
      },
      "execution_count": null,
      "outputs": []
    },
    {
      "cell_type": "code",
      "source": [
        "temp_matrix = result_matrix"
      ],
      "metadata": {
        "id": "8xCYXQJN9Xh2"
      },
      "execution_count": null,
      "outputs": []
    },
    {
      "cell_type": "code",
      "source": [
        "result = []\n",
        "for r in range(temp_matrix.shape[1]):\n",
        "  row_data = temp_matrix[:,r]\n",
        "  pred, _, real = prediction(r, row_data, y_train, k=3)\n",
        "  result.append((real, pred))\n"
      ],
      "metadata": {
        "id": "rrcmqOUu12mS"
      },
      "execution_count": null,
      "outputs": []
    },
    {
      "cell_type": "code",
      "source": [
        "cnt = 0\n",
        "for i in result:\n",
        "  if i[0] == i[1]:\n",
        "    cnt += 1\n",
        "\n",
        "print(cnt,\"/\", 10000)"
      ],
      "metadata": {
        "colab": {
          "base_uri": "https://localhost:8080/"
        },
        "id": "Rs2dtqQO3Tqh",
        "outputId": "9022a8da-0152-4359-c0d0-0c79207b1672"
      },
      "execution_count": null,
      "outputs": [
        {
          "output_type": "stream",
          "name": "stdout",
          "text": [
            "1031 / 10000\n"
          ]
        }
      ]
    },
    {
      "cell_type": "code",
      "source": [
        ""
      ],
      "metadata": {
        "id": "siG60vBu3j5-"
      },
      "execution_count": null,
      "outputs": []
    }
  ],
  "metadata": {
    "kernelspec": {
      "display_name": "Python 3",
      "language": "python",
      "name": "python3"
    },
    "language_info": {
      "codemirror_mode": {
        "name": "ipython",
        "version": 3
      },
      "file_extension": ".py",
      "mimetype": "text/x-python",
      "name": "python",
      "nbconvert_exporter": "python",
      "pygments_lexer": "ipython3",
      "version": "3.8.3"
    },
    "colab": {
      "name": "Lab4_Student_Version_(2) (1).ipynb",
      "provenance": [],
      "toc_visible": true
    },
    "accelerator": "GPU"
  },
  "nbformat": 4,
  "nbformat_minor": 0
}