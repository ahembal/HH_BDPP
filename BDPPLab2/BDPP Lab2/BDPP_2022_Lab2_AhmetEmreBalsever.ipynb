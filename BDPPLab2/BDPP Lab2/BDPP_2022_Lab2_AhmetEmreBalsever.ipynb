{
 "cells": [
  {
   "cell_type": "markdown",
   "metadata": {
    "pycharm": {
     "name": "#%% md\n"
    }
   },
   "source": [
    "# BDPP Course lab 2 (Resilient Distributed Datasets)\n",
    "\n",
    "<img src='files/lab2_header.png'></img>\n",
    "\n",
    "Welcome to the second lab of BDPP course! \n",
    "\n",
    "Here is a summary of what we will cover in this lab:\n",
    "\n",
    "- Work with the SparkContext and SparkSession objects\n",
    "- Speed benchmarking (local and on the cloud)\n",
    "- Work with Resilient Distributed Datasets\n",
    "- Implementing PageRank Algorithm using spark"
   ]
  },
  {
   "cell_type": "markdown",
   "metadata": {
    "pycharm": {
     "name": "#%% md\n"
    }
   },
   "source": [
    "<a id=\"sparkcontext\"></a>\n",
    "## 2. Work with the SparkContext and SparkSession objects\n",
    "\n",
    "The Spark driver application uses the SparkContext object to allow a programming interface to interact with the driver application. The SparkContext object tells Spark how and where to access a cluster. The Google Cloud predefines the Spark context for you. The object name to access the Spark session is `sc`.\n",
    "\n",
    "In other environments, you need to pick an interpreter (for example, pyspark for Python) and create a SparkConf object to initialize a SparkContext object. For example:\n",
    "<br>\n",
    "`from pyspark import SparkContext, SparkConf`<br>\n",
    "`conf = SparkConf().setAppName(appName).setMaster(master)`<br>\n",
    "`sc = SparkContext(conf=conf)`<br>"
   ]
  },
  {
   "cell_type": "markdown",
   "metadata": {
    "pycharm": {
     "name": "#%% md\n"
    }
   },
   "source": [
    "<a id=\"sparkcontext1\"></a>\n",
    "### 2.1 Invoke the SparkContext\n",
    "Run the following cell to invoke the SparkContext. \n",
    "\n",
    "__Note:__ If you ran this jupyter file using `pyspark` command or on the Google cloud, the SparkContext object might already exist in the memory. You can check this by running `sc`command in a notebook cell."
   ]
  },
  {
   "cell_type": "code",
   "execution_count": 4,
   "metadata": {
    "pycharm": {
     "name": "#%%\n"
    }
   },
   "outputs": [
    {
     "name": "stderr",
     "output_type": "stream",
     "text": [
      "22/04/03 13:26:56 WARN Utils: Your hostname, ahembal-ThinkPad resolves to a loopback address: 127.0.1.1; using 192.168.88.232 instead (on interface wlp0s20f3)\n",
      "22/04/03 13:26:56 WARN Utils: Set SPARK_LOCAL_IP if you need to bind to another address\n",
      "WARNING: An illegal reflective access operation has occurred\n",
      "WARNING: Illegal reflective access by org.apache.spark.unsafe.Platform (file:/home/ahembal/anaconda3/envs/testProject/lib/python3.9/site-packages/pyspark/jars/spark-unsafe_2.12-3.1.2.jar) to constructor java.nio.DirectByteBuffer(long,int)\n",
      "WARNING: Please consider reporting this to the maintainers of org.apache.spark.unsafe.Platform\n",
      "WARNING: Use --illegal-access=warn to enable warnings of further illegal reflective access operations\n",
      "WARNING: All illegal access operations will be denied in a future release\n",
      "22/04/03 13:26:56 WARN NativeCodeLoader: Unable to load native-hadoop library for your platform... using builtin-java classes where applicable\n",
      "Using Spark's default log4j profile: org/apache/spark/log4j-defaults.properties\n",
      "Setting default log level to \"WARN\".\n",
      "To adjust logging level use sc.setLogLevel(newLevel). For SparkR, use setLogLevel(newLevel).\n"
     ]
    },
    {
     "data": {
      "text/plain": "<SparkContext master=local[*] appName=Spark Lab2>",
      "text/html": "\n        <div>\n            <p><b>SparkContext</b></p>\n\n            <p><a href=\"http://192.168.88.232:4040\">Spark UI</a></p>\n\n            <dl>\n              <dt>Version</dt>\n                <dd><code>v3.1.2</code></dd>\n              <dt>Master</dt>\n                <dd><code>local[*]</code></dd>\n              <dt>AppName</dt>\n                <dd><code>Spark Lab2</code></dd>\n            </dl>\n        </div>\n        "
     },
     "execution_count": 4,
     "metadata": {},
     "output_type": "execute_result"
    }
   ],
   "source": [
    "from pyspark import SparkContext, SparkConf\n",
    "try:\n",
    "    conf = SparkConf().setAppName('Spark Lab2')\n",
    "    sc = SparkContext(conf=conf)\n",
    "    sc.setLogLevel(\"ERROR\")\n",
    "\n",
    "except:\n",
    "    pass\n",
    "sc"
   ]
  },
  {
   "cell_type": "markdown",
   "metadata": {
    "pycharm": {
     "name": "#%% md\n"
    }
   },
   "source": [
    "__Remember__ that you can create only one instance of the `SparkContext` object (`sc`) in each pyspark session. This means that if you run the above code snippet again, you get the following error:\n",
    "\n",
    "<font color='red'>ValueError</font>:`Cannot run multiple SparkContexts at once; existing SparkContext(app=My app, master=local) created by __init__ ... ` \n",
    "\n",
    "Moreover, you have to close your Spark session at the end of your program. This can be done by calling the `stop` function: `sc.stop()`. It ensures that you will not face any problem connecting to Spark again.\n",
    "\n",
    "The same goes for the `SparkSession` object."
   ]
  },
  {
   "cell_type": "markdown",
   "metadata": {
    "pycharm": {
     "name": "#%% md\n"
    }
   },
   "source": [
    "#### Check the Spark version\n",
    "Check the version of the Spark driver application:"
   ]
  },
  {
   "cell_type": "code",
   "execution_count": 2,
   "metadata": {
    "pycharm": {
     "name": "#%%\n"
    }
   },
   "outputs": [
    {
     "data": {
      "text/plain": "'3.1.2'"
     },
     "execution_count": 2,
     "metadata": {},
     "output_type": "execute_result"
    }
   ],
   "source": [
    "sc.version"
   ]
  },
  {
   "cell_type": "markdown",
   "metadata": {
    "pycharm": {
     "name": "#%% md\n"
    }
   },
   "source": [
    "### 2.2 SparkSession\n",
    "\n",
    "Prior to Spark 2.0.0, `sparkContext` was used as a channel to access all spark functionality. From Spark 2.0.0 onwards, `SparkSession` provides a single point of entry to interact with underlying Spark functionality and allows programming Spark with DataFrame and Dataset APIs. The Google Cloud predefines the Spark session for you. The object name to access Spark session is `spark`.\n",
    "\n",
    "In other environments, you need to pick an interpreter (for example, pyspark for Python) and create a Spark session object. For example:"
   ]
  },
  {
   "cell_type": "code",
   "execution_count": 6,
   "metadata": {
    "pycharm": {
     "name": "#%%\n"
    }
   },
   "outputs": [],
   "source": [
    "from pyspark.sql import SparkSession\n",
    "\n",
    "try:\n",
    "    spark = SparkSession \\\n",
    "        .builder \\\n",
    "        .appName(\"Spark Lab2\") \\\n",
    "        .config(\"spark.some.config.option\", \"some-value\") \\\n",
    "        .getOrCreate()\n",
    "except:\n",
    "    pass"
   ]
  },
  {
   "cell_type": "code",
   "execution_count": 7,
   "metadata": {
    "pycharm": {
     "name": "#%%\n"
    }
   },
   "outputs": [
    {
     "data": {
      "text/plain": "<pyspark.sql.session.SparkSession at 0x7fdb180c1190>",
      "text/html": "\n            <div>\n                <p><b>SparkSession - in-memory</b></p>\n                \n        <div>\n            <p><b>SparkContext</b></p>\n\n            <p><a href=\"http://192.168.88.232:4040\">Spark UI</a></p>\n\n            <dl>\n              <dt>Version</dt>\n                <dd><code>v3.1.2</code></dd>\n              <dt>Master</dt>\n                <dd><code>local[*]</code></dd>\n              <dt>AppName</dt>\n                <dd><code>Spark Lab2</code></dd>\n            </dl>\n        </div>\n        \n            </div>\n        "
     },
     "execution_count": 7,
     "metadata": {},
     "output_type": "execute_result"
    }
   ],
   "source": [
    "spark"
   ]
  },
  {
   "cell_type": "markdown",
   "metadata": {
    "pycharm": {
     "name": "#%% md\n"
    }
   },
   "source": [
    "All the functionality available with sparkContext are also available in sparkSession. If you need to access `SparkContext` through SparkSession use `sparkContext` attribute:"
   ]
  },
  {
   "cell_type": "code",
   "execution_count": 8,
   "metadata": {
    "pycharm": {
     "name": "#%%\n"
    }
   },
   "outputs": [
    {
     "data": {
      "text/plain": "<SparkContext master=local[*] appName=Spark Lab2>",
      "text/html": "\n        <div>\n            <p><b>SparkContext</b></p>\n\n            <p><a href=\"http://192.168.88.232:4040\">Spark UI</a></p>\n\n            <dl>\n              <dt>Version</dt>\n                <dd><code>v3.1.2</code></dd>\n              <dt>Master</dt>\n                <dd><code>local[*]</code></dd>\n              <dt>AppName</dt>\n                <dd><code>Spark Lab2</code></dd>\n            </dl>\n        </div>\n        "
     },
     "execution_count": 8,
     "metadata": {},
     "output_type": "execute_result"
    }
   ],
   "source": [
    "spark.sparkContext"
   ]
  },
  {
   "cell_type": "markdown",
   "metadata": {
    "pycharm": {
     "name": "#%% md\n"
    }
   },
   "source": [
    "### 2.3. Speed benchmark (Spark VS Pandas)\n",
    "\n",
    "Now, let's use the `sparkSession` object to run a simple benchmark by comparing reading a relatively big CSV file with pandas VS Spark. Although we are still running Spark on our local computer, it ends up reading the file faster than pandas (note that the result highly depends on the parallelization capabilities of your CPU). This demonstrates how Spark dataframes are much faster when compared to their pandas equivalent.\n",
    "\n",
    "For this experiment, we use a somewhat large Vermont vendor dataset. This data is accessible through [this link](https://data.vermont.gov/Finance/Vermont-Vendor-Payments/786x-sbp3). On this link, please select export and then choose CSV format. Download the file rename it to `Vermont_Vendor_Payments.csv` and place it in the `files` folder next to this notebook. Now, run the following two code snippets."
   ]
  },
  {
   "cell_type": "code",
   "execution_count": 6,
   "metadata": {
    "scrolled": true,
    "pycharm": {
     "name": "#%%\n"
    }
   },
   "outputs": [
    {
     "name": "stdout",
     "output_type": "stream",
     "text": [
      "166 ms ± 11.3 ms per loop (mean ± std. dev. of 7 runs, 1 loop each)\n"
     ]
    }
   ],
   "source": [
    "%%timeit\n",
    "\n",
    "# loading csv file with Spark\n",
    "housing = spark.read.csv(\"files/Vermont_Vendor_Payments.csv\", header=\"true\")"
   ]
  },
  {
   "cell_type": "code",
   "execution_count": 7,
   "metadata": {
    "pycharm": {
     "name": "#%%\n"
    }
   },
   "outputs": [],
   "source": [
    "# installl pandas library if you don't have it.\n",
    "\n",
    "import pandas as pd"
   ]
  },
  {
   "cell_type": "code",
   "execution_count": 8,
   "metadata": {
    "pycharm": {
     "name": "#%%\n"
    }
   },
   "outputs": [
    {
     "name": "stderr",
     "output_type": "stream",
     "text": [
      "/home/ahembal/anaconda3/envs/testProject/lib/python3.9/site-packages/IPython/core/magics/execution.py:156: DtypeWarning: Columns (5) have mixed types.Specify dtype option on import or set low_memory=False.\n",
      "  timing = self.inner(it, self.timer)\n"
     ]
    },
    {
     "name": "stdout",
     "output_type": "stream",
     "text": [
      "3.2 s ± 155 ms per loop (mean ± std. dev. of 7 runs, 1 loop each)\n"
     ]
    }
   ],
   "source": [
    "%%timeit\n",
    "\n",
    "# loading csv file with Pandas\n",
    "df_pandas = pd.read_csv(\"files/Vermont_Vendor_Payments.csv\")"
   ]
  },
  {
   "cell_type": "markdown",
   "metadata": {
    "pycharm": {
     "name": "#%% md\n"
    }
   },
   "source": [
    "<div class=\"alert alert-block alert-info\">\n",
    "\n",
    "__Question1__: Use the cell below to report your observations from this experiment and compare the running times.\n",
    "    \n",
    "</div>"
   ]
  },
  {
   "cell_type": "markdown",
   "metadata": {
    "pycharm": {
     "name": "#%% md\n"
    }
   },
   "source": [
    "\"\"\" TODO: change the format of this cell to Markdown and answer the question here \"\"\"\n",
    " Although we are still running Spark on our local computer, it ends up reading the file faster than pandas. This demonstrates how Spark dataframes are much faster when compared to their pandas equivalent. One thing to note is measured value does not represent real execution time because of caching feature of spark.\n",
    "\n",
    "Spark:\n",
    "The slowest run took 8.35 times longer than the fastest. This could mean that an intermediate result is being cached.\n",
    "166 ms ± 11.3 ms per loop (mean ± std. dev. of 7 runs, 1 loop each)\n",
    "\n",
    "Pandas:\n",
    "3.2 s ± 155 ms per loop (mean ± std. dev. of 7 runs, 1 loop each)\n"
   ]
  },
  {
   "cell_type": "markdown",
   "metadata": {
    "pycharm": {
     "name": "#%% md\n"
    }
   },
   "source": [
    "### 2.4. Speed benchmark (π calculation)\n",
    "\n",
    "Spark can also be used for compute-intensive tasks. This code estimates π by \"throwing darts\" at a circle. We pick random points in the unit square ((0, 0) to (1,1)) and see how many fall in the unit circle. The fraction should be π / 4, so we use this to get our estimate."
   ]
  },
  {
   "cell_type": "code",
   "execution_count": 9,
   "metadata": {
    "pycharm": {
     "name": "#%%\n"
    }
   },
   "outputs": [],
   "source": [
    "# π calculation code\n",
    "\n",
    "import random\n",
    "\n",
    "num_samples = 10000000 # you can change this number, e.g. try 1000000\n",
    "\n",
    "def inside(p):\n",
    "    x, y = random.random(), random.random()\n",
    "    return x*x + y*y < 1\n",
    "\n",
    "def spark_pi_calc():\n",
    "    # here we do the pi calcaulation using Spark\n",
    "    count = spark.sparkContext.parallelize(range(0, num_samples)).filter(inside).count()\n",
    "    return (4.0 * count / num_samples)\n",
    "\n",
    "def python_pi_calc():\n",
    "    # here we do the same calculation with python list comprehension\n",
    "    count = sum([inside(_) for throw in range(num_samples)])\n",
    "    return (4.0 * count / num_samples)"
   ]
  },
  {
   "cell_type": "code",
   "execution_count": 10,
   "metadata": {
    "pycharm": {
     "name": "#%%\n"
    }
   },
   "outputs": [
    {
     "name": "stderr",
     "output_type": "stream",
     "text": [
      "[Stage 8:==============>                                            (2 + 6) / 8]\r"
     ]
    },
    {
     "name": "stdout",
     "output_type": "stream",
     "text": [
      "[Spark] Pi is roughly: 3.1417276\n"
     ]
    },
    {
     "name": "stderr",
     "output_type": "stream",
     "text": [
      "                                                                                \r"
     ]
    }
   ],
   "source": [
    "# Depending on your hardware, this can take some time to fininsh.\n",
    "# You can reduce num_samples if it is taking too much time.\n",
    "\n",
    "print(\"[Spark] Pi is roughly:\", spark_pi_calc())"
   ]
  },
  {
   "cell_type": "code",
   "execution_count": 11,
   "metadata": {
    "pycharm": {
     "name": "#%%\n"
    }
   },
   "outputs": [
    {
     "name": "stdout",
     "output_type": "stream",
     "text": [
      "[Python] Pi is roughly: 3.141656\n"
     ]
    }
   ],
   "source": [
    "# Depending on your hardware, this can take some time to fininsh.\n",
    "# You can reduce num_samples if it is taking too much time.\n",
    "\n",
    "print(\"[Python] Pi is roughly:\", python_pi_calc())"
   ]
  },
  {
   "cell_type": "markdown",
   "metadata": {
    "pycharm": {
     "name": "#%% md\n"
    }
   },
   "source": [
    "Now, we use π calculation code to benchmark spark VS python. For small problems, python might work faster than spark because of the initial setup cost of spark. However, as the problem gets bigger, the spark code starts to show its benefit and runs faster than python.\n",
    "\n",
    "In the code below, we start from a small `num_samples` and keep doubling it until the python loop exceeds `max_time` (here it is set to 3 seconds by default). We collect running times for spark and python codes and produce a plot displaying time VS num_samples. \n",
    "\n",
    "We want you to play with the `max_time` parameter until the problem gets big enough so that you observe the spark code runs faster than the python code. This, of course, highly depends on the parallelization capacity of your CPU, and you may end up getting different results."
   ]
  },
  {
   "cell_type": "code",
   "execution_count": 12,
   "metadata": {
    "pycharm": {
     "name": "#%%\n"
    }
   },
   "outputs": [
    {
     "name": "stdout",
     "output_type": "stream",
     "text": [
      "Running experiment. This may take a few minutes to run.\n",
      "You can change max_time value to increase or decrease run time.\n",
      "(please wait)\n",
      "0 / 1000\n",
      "2 / 1000\n",
      "29 / 1000\n",
      "59 / 1000\n"
     ]
    },
    {
     "name": "stderr",
     "output_type": "stream",
     "text": [
      "                                                                                \r"
     ]
    },
    {
     "name": "stdout",
     "output_type": "stream",
     "text": [
      "107 / 1000\n"
     ]
    },
    {
     "name": "stderr",
     "output_type": "stream",
     "text": [
      "                                                                                \r"
     ]
    },
    {
     "name": "stdout",
     "output_type": "stream",
     "text": [
      "201 / 1000\n"
     ]
    },
    {
     "name": "stderr",
     "output_type": "stream",
     "text": [
      "                                                                                \r"
     ]
    },
    {
     "name": "stdout",
     "output_type": "stream",
     "text": [
      "406 / 1000\n"
     ]
    },
    {
     "name": "stderr",
     "output_type": "stream",
     "text": [
      "                                                                                \r"
     ]
    },
    {
     "name": "stdout",
     "output_type": "stream",
     "text": [
      "815 / 1000\n"
     ]
    },
    {
     "name": "stderr",
     "output_type": "stream",
     "text": [
      "[Stage 35:===========================================>              (6 + 2) / 8]\r"
     ]
    },
    {
     "name": "stdout",
     "output_type": "stream",
     "text": [
      "1000 / 1000\n",
      "Done! Total time = 142.07s\n"
     ]
    },
    {
     "name": "stderr",
     "output_type": "stream",
     "text": [
      "                                                                                \r"
     ]
    }
   ],
   "source": [
    "import timeit, time\n",
    "\n",
    "max_time = 10 # you can also try 1, 2, 5, and 10 depending on your hardware performance.\n",
    "\n",
    "print('Running experiment. This may take a few minutes to run.')\n",
    "print('You can change max_time value to increase or decrease run time.')\n",
    "print('(please wait)')\n",
    "\n",
    "num_samples = 10000\n",
    "steps = []\n",
    "python_times = []\n",
    "sparks_times = []\n",
    "\n",
    "def my_timeit(func):\n",
    "    runs = 3  # If the experiment is still taking too much time to run, you may decrease this value as well.\n",
    "    dtime = timeit.timeit(func, number=runs)\n",
    "    elapsed = dtime/runs\n",
    "    return elapsed\n",
    "\n",
    "start = time.time()\n",
    "while True:\n",
    "    pt = my_timeit(python_pi_calc)\n",
    "    st = my_timeit(spark_pi_calc)\n",
    "    python_times.append(pt)\n",
    "    sparks_times.append(st)\n",
    "    steps.append(num_samples)\n",
    "    print(min(int(pt * 100), max_time*100), '/', max_time*100)\n",
    "    if pt > max_time:\n",
    "        break\n",
    "    elif pt < 0.1:\n",
    "        num_samples = num_samples * 10\n",
    "    else:\n",
    "        num_samples = num_samples * 2\n",
    "print(f\"Done! Total time = {time.time()-start:.2f}s\")"
   ]
  },
  {
   "cell_type": "code",
   "execution_count": 13,
   "metadata": {
    "pycharm": {
     "name": "#%%\n"
    }
   },
   "outputs": [
    {
     "data": {
      "text/plain": "<Figure size 432x288 with 1 Axes>",
      "image/png": "[encoded data removed]"
     },
     "metadata": {
      "needs_background": "light"
     },
     "output_type": "display_data"
    }
   ],
   "source": [
    "%matplotlib inline\n",
    "import matplotlib.pyplot as plt\n",
    "\n",
    "plt.figure()\n",
    "plt.plot(steps, python_times, color='red', label='python')\n",
    "plt.plot(steps, sparks_times, color='blue', label='spark')\n",
    "plt.legend()\n",
    "plt.xlabel('number of samples', fontsize=12)\n",
    "plt.ylabel('running time (seconds)', fontsize=12)\n",
    "plt.title('Speed benchmark (π calculation)')\n",
    "plt.show()"
   ]
  },
  {
   "cell_type": "markdown",
   "metadata": {
    "pycharm": {
     "name": "#%% md\n"
    }
   },
   "source": [
    "<div class=\"alert alert-block alert-info\">\n",
    "\n",
    "__Question2__: Use the cell below to report your observations from this experiment and compare the running times. Can Spark implementation run faster than Pandas on a single computer? How?\n",
    "\n",
    "</div>"
   ]
  },
  {
   "cell_type": "markdown",
   "metadata": {
    "pycharm": {
     "name": "#%% md\n"
    }
   },
   "source": [
    "\"\"\" TODO: change the format of this cell to Markdown and answer the question here \"\"\"\n",
    "For small problems, python might work faster than spark because of the initial setup cost of spark.\n",
    "However, depending on our cpu parallelization capabilities, as the problem gets bigger,\n",
    "the spark code starts to show its benefit and runs faster than python as you can see on figure.\n",
    "For example, looking at the figure we can say, for 3 samples, running time for spark is 3.5 sec but for python is almost 8 sec, 2 times longer than spark.\n"
   ]
  },
  {
   "cell_type": "markdown",
   "metadata": {
    "pycharm": {
     "name": "#%% md\n"
    }
   },
   "source": [
    "__Hint__: If you pick a big enough value for the `num_samples` parameter (code below), you should be able to see multiple python processes running at the same time in your (system monitor/task manager) when benchmarking spark code (A)."
   ]
  },
  {
   "cell_type": "code",
   "execution_count": 14,
   "metadata": {
    "pycharm": {
     "name": "#%%\n"
    }
   },
   "outputs": [
    {
     "name": "stderr",
     "output_type": "stream",
     "text": [
      "                                                                                \r"
     ]
    },
    {
     "data": {
      "text/plain": "3.1416451733333335"
     },
     "execution_count": 14,
     "metadata": {},
     "output_type": "execute_result"
    }
   ],
   "source": [
    "# code (A) Spark \n",
    "# Depending on your hardware, this can take some time to fininsh.\n",
    "# You can reduce num_samples if it is taking too much time.\n",
    "\n",
    "num_samples = 300000000  # reduce this number if it is taking too much time to run\n",
    "spark_pi_calc()"
   ]
  },
  {
   "cell_type": "code",
   "execution_count": 15,
   "metadata": {
    "pycharm": {
     "name": "#%%\n"
    }
   },
   "outputs": [
    {
     "data": {
      "text/plain": "3.141438"
     },
     "execution_count": 15,
     "metadata": {},
     "output_type": "execute_result"
    }
   ],
   "source": [
    "# code (B) Python - List Comprehension\n",
    "# Depending on your hardware, this can take some time to fininsh.\n",
    "# You can reduce num_samples if it is taking too much time.\n",
    "\n",
    "num_samples = 100000000  # reduce this number if it is taking too much time to run\n",
    "python_pi_calc()"
   ]
  },
  {
   "cell_type": "markdown",
   "metadata": {
    "pycharm": {
     "name": "#%% md\n"
    }
   },
   "source": [
    "<br>\n",
    "<br>\n",
    "<img src=\"files/spark run.png\">\n",
    "\n",
    "<br>\n",
    "<br>\n",
    "This picture also demonstrates how Spark uses CPU VS python:\n",
    "<br>\n",
    "<br>\n",
    "\n",
    "<img src=\"files/spark cpu load.png\" width=\"300\">"
   ]
  },
  {
   "cell_type": "code",
   "execution_count": null,
   "outputs": [],
   "source": [],
   "metadata": {
    "collapsed": false,
    "pycharm": {
     "name": "#%%\n"
    }
   }
  },
  {
   "cell_type": "markdown",
   "metadata": {
    "pycharm": {
     "name": "#%% md\n"
    }
   },
   "source": [
    "### 2.5. Speed benchmark on the Cloud (recommender system)\n",
    "\n",
    "In this section, you are required to run a recommender system written using spark Mlib (cell below) with (at least) the following two configurations and compare their speed in a brief report:\n",
    "\n",
    "1. Single Node (1 master (__2 vCPU__), __ZERO__ workers)\n",
    "1. Standard (1 master (__1 vCPU__), __SEVEN__ workers (__1 vCPU each__))\n",
    "\n",
    "__Change__ the machine type for both configurations to `Custom` and set the number of __vCPU__ core for master and worker nodes according to the specified configuration above."
   ]
  },
  {
   "cell_type": "markdown",
   "metadata": {
    "pycharm": {
     "name": "#%% md\n"
    }
   },
   "source": [
    "__Note:__ Because of the resource limitations, you may not be able to create both cluster types together. If this issue happens, you can delete the previous cluster before making a new one.\n",
    "Following are a few tips on how to create different types of clusters in GCP:\n",
    "\n",
    "- This is how you can change the cluster type:\n",
    "<img src=\"files/benchmark0.png\">\n",
    "- This is how you can change `number of workers` and `Machine Types`:\n",
    "<img src=\"files/benchmark1.png\">\n",
    "- For the second experiment set `number of workers` to 7 in `standard cluster`:\n",
    "<img src=\"files/benchmark2.png\">"
   ]
  },
  {
   "cell_type": "markdown",
   "metadata": {
    "pycharm": {
     "name": "#%% md\n"
    }
   },
   "source": [
    "There are two files `u.data` and `u.item` located in the `files` folder. You should upload these files to your cloud storage and change the `your_bucket_name` variable according to your bucket name.\n",
    "\n",
    "Here is the benchmark code you should run on the cloud:"
   ]
  },
  {
   "cell_type": "code",
   "execution_count": null,
   "metadata": {
    "pycharm": {
     "name": "#%%\n"
    }
   },
   "outputs": [],
   "source": [
    "import time\n",
    "import sys\n",
    "from pyspark import SparkConf, SparkContext\n",
    "from pyspark.mllib.recommendation import ALS, Rating\n",
    "\n",
    "from google.cloud import storage\n",
    "\n",
    "your_bucket_name = 'bdpp_bucket3'\n",
    "\n",
    "client = storage.Client()\n",
    "for blob in client.list_blobs(your_bucket_name):\n",
    "    print(str(blob))\n",
    "\n",
    "start = time.time()\n",
    "\n",
    "def loadMovieNames():\n",
    "    movieNames = {}\n",
    "    item = sc.textFile(\"gs://\" + your_bucket_name + \"/u.item\")\n",
    "    for line in item.collect():\n",
    "        fields = line.split('|')\n",
    "        movieNames[int(fields[0])] = fields[1]\n",
    "\n",
    "    return movieNames\n",
    "\n",
    "conf = SparkConf().setMaster(\"local\").setAppName(\"MovieRecommendationsALS\")\n",
    "try:\n",
    "    sc = SparkContext(conf = conf)\n",
    "except:\n",
    "    pass\n",
    "sc.setCheckpointDir('checkpoint')\n",
    "\n",
    "print(\"\\nLoading movie names...\")\n",
    "nameDict = loadMovieNames()\n",
    "\n",
    "\n",
    "data = sc.textFile(\"gs://\" + your_bucket_name + \"/u.data\")\n",
    "\n",
    "ratings = data.map(lambda l: l.split()).map(lambda l: Rating(int(l[0]), \\\n",
    "                            int(l[1]), float(l[2])))#.cache()\n",
    "\n",
    "ratings.collect()\n",
    "\n",
    "data.collect()\n",
    "\n",
    "start = time.time()\n",
    "# Build the recommendation model using Alternating Least Squares\n",
    "print(\"\\nTraining recommendation model...\")\n",
    "rank = 10\n",
    "# Lowered numIterations to ensure it works on lower-end systems\n",
    "numIterations = 1000\n",
    "model = ALS.train(ratings, rank, numIterations)\n",
    "end = time.time()\n",
    "\n",
    "print(end-start)\n",
    "\n",
    "userID = 2\n",
    "\n",
    "print(\"\\nRatings for user ID \" + str(userID) + \":\")\n",
    "userRatings = ratings.filter(lambda l: l[0] == userID)\n",
    "for rating in userRatings.collect():\n",
    "    print (nameDict[int(rating[1])] + \": \" + str(rating[2]))\n",
    "\n",
    "print(\"\\nTop 10 recommendations:\")\n",
    "recommendations = model.recommendProducts(userID, 10)\n",
    "for recommendation in recommendations:\n",
    "    print (nameDict[int(recommendation[1])] + \\\n",
    "        \" score \" + str(recommendation[2]))\n",
    "\n",
    "print(f\"Done! Total time = {time.time()-start:.2f}s\")"
   ]
  },
  {
   "cell_type": "markdown",
   "metadata": {
    "pycharm": {
     "name": "#%% md\n"
    }
   },
   "source": [
    "<div class=\"alert alert-block alert-info\">\n",
    "\n",
    "__Question3__: Run the above experiment three times for each configuration and report the running times and mean and standard deviation for each setup. Discuss how adding extra resources affects the running time?\n",
    "\n",
    "</div>"
   ]
  },
  {
   "cell_type": "markdown",
   "source": [
    "\"\"\" TODO: change the format of this cell to Markdown and answer the question here \"\"\"\n",
    "\n",
    "-----Single Node (1 master (2 vCPU), ZERO workers)\n",
    "Num of iterations(100): Total time = 23.36s\n",
    "Num of iterations(150): Total time = 18.01s\n",
    "\n",
    "---notebook restarted this point\n",
    "Num of iterations(1000): Total time = 207.61s\n",
    "Num of iterations(1500): Total time = 23.36s\n",
    "\n",
    "Running times is as seen above, the first time on single node is quite long.\n",
    "The large decreasing on running time after first run shows that an intermediate result is being cached.\n",
    "\n",
    "\n",
    "-----Standard (1 master (1 vCPU), SEVEN workers (1 vCPU each))\n",
    "Num of iterations(150): Total time = 56.25s\n",
    "Num of iterations(150): Total time = 39.20s -running second time\n",
    "\n",
    "According to measurements, 1 master (1 vCPU) machine with seven workers works slowly than single node machine(1 master (2 vCPU).\n",
    "I think our resources are insufficient to run spark core properly. Because of that parallelization doesn't work at all.\n"
   ],
   "metadata": {
    "collapsed": false,
    "pycharm": {
     "name": "#%% md\n"
    }
   }
  },
  {
   "cell_type": "markdown",
   "source": [
    "<a id=\"rdd\"></a>\n",
    "## 3. Work with Resilient Distributed Datasets\n",
    "Spark uses an abstraction for working with data called a Resilient Distributed Dataset (RDD). An RDD is a collection of elements that can be operated on in parallel. RDDs are immutable, so you can't update the data in them. To update data in an RDD, you must create a new RDD. In Spark, all work is done by creating new RDDs, transforming existing RDDs, or using RDDs to compute results. When working with RDDs, the Spark driver application automatically distributes the work across the cluster.\n",
    "\n",
    "You can construct RDDs by parallelizing existing Python collections (lists), by manipulating RDDs, or by manipulating files in HDFS or any other storage system.\n",
    "\n",
    "You can run these types of methods on RDDs:\n",
    " - Actions: query the data and return values\n",
    " - Transformations: manipulate data values and return pointers to new RDDs.\n",
    "\n",
    "Find more information on Python methods in the <a href=\"http://spark.apache.org/docs/latest/api/python/pyspark.html\" target=\"_blank\" rel=\"noopener noreferrer\">PySpark documentation</a>.\n",
    "\n",
    "<a id=\"rdd1\"></a>\n",
    "### 3.1 Create a collection\n",
    "Create a Python collection of the numbers 1 - 10:"
   ],
   "metadata": {
    "collapsed": false,
    "pycharm": {
     "name": "#%% md\n"
    }
   }
  },
  {
   "cell_type": "code",
   "execution_count": 16,
   "outputs": [],
   "source": [
    "x = [1, 2, 3, 4, 5, 6, 7, 8, 9, 10]"
   ],
   "metadata": {
    "collapsed": false,
    "pycharm": {
     "name": "#%%\n"
    }
   }
  },
  {
   "cell_type": "markdown",
   "source": [
    "<a id=\"rdd2\"></a>\n",
    "### 3.2 Create an RDD\n",
    "Put the collection into an RDD named `x_nbr_rdd` using the `parallelize` method:"
   ],
   "metadata": {
    "collapsed": false,
    "pycharm": {
     "name": "#%% md\n"
    }
   }
  },
  {
   "cell_type": "code",
   "execution_count": 17,
   "metadata": {
    "pycharm": {
     "name": "#%%\n"
    }
   },
   "outputs": [],
   "source": [
    "x_nbr_rdd = spark.sparkContext.parallelize(x)"
   ]
  },
  {
   "cell_type": "markdown",
   "metadata": {
    "pycharm": {
     "name": "#%% md\n"
    }
   },
   "source": [
    "Notice that there's no return value. The `parallelize` method didn't compute a result, which means it's a transformation. Spark just recorded how to create the RDD."
   ]
  },
  {
   "cell_type": "markdown",
   "metadata": {
    "pycharm": {
     "name": "#%% md\n"
    }
   },
   "source": [
    "<a id=\"rdd3\"></a>\n",
    "### 3.3 View the data \n",
    "View the first element in the RDD:"
   ]
  },
  {
   "cell_type": "code",
   "execution_count": 18,
   "metadata": {
    "pycharm": {
     "name": "#%%\n"
    }
   },
   "outputs": [
    {
     "data": {
      "text/plain": "1"
     },
     "execution_count": 18,
     "metadata": {},
     "output_type": "execute_result"
    }
   ],
   "source": [
    "x_nbr_rdd.first()"
   ]
  },
  {
   "cell_type": "markdown",
   "metadata": {
    "pycharm": {
     "name": "#%% md\n"
    }
   },
   "source": [
    "Each number in the collection is in a different element in the RDD. Because the `first()` method returned a value, it is an action. \n",
    "\n",
    "Now view the first five elements in the RDD:"
   ]
  },
  {
   "cell_type": "code",
   "execution_count": 19,
   "metadata": {
    "pycharm": {
     "name": "#%%\n"
    }
   },
   "outputs": [
    {
     "data": {
      "text/plain": "[1, 2, 3, 4, 5]"
     },
     "execution_count": 19,
     "metadata": {},
     "output_type": "execute_result"
    }
   ],
   "source": [
    "x_nbr_rdd.take(5)"
   ]
  },
  {
   "cell_type": "markdown",
   "metadata": {
    "pycharm": {
     "name": "#%% md\n"
    }
   },
   "source": [
    "<a id=\"rdd4\"></a>\n",
    "### 3.4 Create another RDD \n",
    "Create a Python collection that contains strings:"
   ]
  },
  {
   "cell_type": "code",
   "execution_count": 2,
   "metadata": {
    "pycharm": {
     "name": "#%%\n"
    }
   },
   "outputs": [],
   "source": [
    "y = [\"Hello Human\", \"My Name is Spark\"]"
   ]
  },
  {
   "cell_type": "markdown",
   "metadata": {
    "pycharm": {
     "name": "#%% md\n"
    }
   },
   "source": [
    "Put the collection into an RDD:"
   ]
  },
  {
   "cell_type": "code",
   "execution_count": 9,
   "metadata": {
    "pycharm": {
     "name": "#%%\n"
    }
   },
   "outputs": [],
   "source": [
    "y_str_rdd = spark.sparkContext.parallelize(y)"
   ]
  },
  {
   "cell_type": "markdown",
   "metadata": {
    "pycharm": {
     "name": "#%% md\n"
    }
   },
   "source": [
    "View the first element in the RDD:"
   ]
  },
  {
   "cell_type": "code",
   "execution_count": 10,
   "metadata": {
    "pycharm": {
     "name": "#%%\n"
    }
   },
   "outputs": [
    {
     "name": "stderr",
     "output_type": "stream",
     "text": [
      "                                                                                \r"
     ]
    },
    {
     "data": {
      "text/plain": "['Hello Human']"
     },
     "execution_count": 10,
     "metadata": {},
     "output_type": "execute_result"
    }
   ],
   "source": [
    "y_str_rdd.take(1)"
   ]
  },
  {
   "cell_type": "code",
   "execution_count": 21,
   "outputs": [],
   "source": [
    "y_new = y_str_rdd.flatMap(lambda y: y.split(' '))"
   ],
   "metadata": {
    "collapsed": false,
    "pycharm": {
     "name": "#%%\n"
    }
   }
  },
  {
   "cell_type": "code",
   "execution_count": 22,
   "outputs": [
    {
     "data": {
      "text/plain": "['Hello', 'Human', 'My', 'Name', 'is', 'Spark']"
     },
     "execution_count": 22,
     "metadata": {},
     "output_type": "execute_result"
    }
   ],
   "source": [
    "y_new.collect()"
   ],
   "metadata": {
    "collapsed": false,
    "pycharm": {
     "name": "#%%\n"
    }
   }
  },
  {
   "cell_type": "markdown",
   "metadata": {
    "pycharm": {
     "name": "#%% md\n"
    }
   },
   "source": [
    "You created the string \"Hello Human\" and you returned it as the first element of the RDD. To analyze a set of words, you can map each word into an RDD element."
   ]
  },
  {
   "cell_type": "markdown",
   "metadata": {
    "pycharm": {
     "name": "#%% md\n"
    }
   },
   "source": [
    "<a id=\"trans\"></a>\n",
    "## 4. Manipulate data in RDDs\n",
    "\n",
    "Remember that to manipulate data, you use transformation functions.\n",
    "\n",
    "Here are some common Python transformation functions that you'll be using in this notebook:\n",
    "\n",
    " - `map(func)`: returns a new RDD with the results of running the specified function on each element  \n",
    " - `filter(func)`: returns a new RDD with the elements for which the specified function returns true   \n",
    " - `distinct([numTasks]))`: returns a new RDD that contains the distinct elements of the source RDD\n",
    " - `flatMap(func)`: returns a new RDD by first running the specified function on all elements, returning 0 or more results for each original element, and then flattening the results into individual elements\n",
    "\n",
    "You can also create functions that run a single expression and don't have a name with the Python `lambda` keyword. For example, this function returns the sum of its arguments: `lambda a , b : a + b`.\n",
    "\n",
    "<a id=\"trans1\"></a>\n",
    "### 4.1 Update numeric values\n",
    "Run the `map()` function with the `lambda` keyword to replace each element, X, in your first RDD (the one that has numeric values) with X+1. Because RDDs are immutable, you need to specify a new RDD name."
   ]
  },
  {
   "cell_type": "markdown",
   "source": [
    "Now look at the elements of the new RDD:"
   ],
   "metadata": {
    "collapsed": false,
    "pycharm": {
     "name": "#%% md\n"
    }
   }
  },
  {
   "cell_type": "code",
   "execution_count": 24,
   "metadata": {
    "pycharm": {
     "name": "#%%\n"
    }
   },
   "outputs": [
    {
     "data": {
      "text/plain": "[2, 3, 4, 5, 6, 7, 8, 9, 10, 11]"
     },
     "execution_count": 24,
     "metadata": {},
     "output_type": "execute_result"
    }
   ],
   "source": [
    "x_nbr_rdd_2.collect()"
   ]
  },
  {
   "cell_type": "markdown",
   "metadata": {
    "pycharm": {
     "name": "#%% md\n"
    }
   },
   "source": [
    "Be careful with the `collect` method! It returns __all__ elements of the RDD to the driver. Returning a large data set might be not be very useful. No-one wants to scroll through a million rows!"
   ]
  },
  {
   "cell_type": "markdown",
   "metadata": {
    "pycharm": {
     "name": "#%% md\n"
    }
   },
   "source": [
    "<a id=\"trans2\"></a>\n",
    "### 4.2 Add numbers in an array\n",
    "An array of values is a common data format where multiple values are contained in one element. You can manipulate the individual values if you split them up into separate elements.\n",
    "\n",
    "Create an array of numbers by including quotation marks around the whole set of numbers. If you omit the quotation marks, you get a collection of numbers instead of an array."
   ]
  },
  {
   "cell_type": "code",
   "execution_count": 25,
   "metadata": {
    "pycharm": {
     "name": "#%%\n"
    }
   },
   "outputs": [],
   "source": [
    "X = [\"1,2,3,4,5,6,7,8,9,10\"]"
   ]
  },
  {
   "cell_type": "markdown",
   "metadata": {
    "pycharm": {
     "name": "#%% md\n"
    }
   },
   "source": [
    "Create an RDD for the array:"
   ]
  },
  {
   "cell_type": "code",
   "execution_count": 26,
   "metadata": {
    "pycharm": {
     "name": "#%%\n"
    }
   },
   "outputs": [],
   "source": [
    "y_rd = spark.sparkContext.parallelize(X)"
   ]
  },
  {
   "cell_type": "markdown",
   "metadata": {
    "pycharm": {
     "name": "#%% md\n"
    }
   },
   "source": [
    "Split the values at commas and add values in the positions 3 and 7 in the array. Keep in mind that an array starts with position 0. Use a backslash character, \\, to break the line of code for clarity."
   ]
  },
  {
   "cell_type": "code",
   "execution_count": 63,
   "outputs": [],
   "source": [
    "lst = y_rd.map(lambda y: y.split(',')).collect()"
   ],
   "metadata": {
    "collapsed": false,
    "pycharm": {
     "name": "#%%\n"
    }
   }
  },
  {
   "cell_type": "code",
   "execution_count": 88,
   "metadata": {
    "pycharm": {
     "name": "#%%\n"
    }
   },
   "outputs": [
    {
     "data": {
      "text/plain": "[12]"
     },
     "execution_count": 88,
     "metadata": {},
     "output_type": "execute_result"
    }
   ],
   "source": [
    "# TODO: Replace <FILL IN> with appropriate code\n",
    "\n",
    "Sum_rd = y_rd.map(lambda y: y.split(',')).map(lambda y: int(y[3])+int(y[7]))\n",
    "Sum_rd.collect()"
   ]
  },
  {
   "cell_type": "markdown",
   "metadata": {
    "pycharm": {
     "name": "#%% md\n"
    }
   },
   "source": [
    "Now return the value of the sum:"
   ]
  },
  {
   "cell_type": "code",
   "execution_count": 89,
   "metadata": {
    "pycharm": {
     "name": "#%%\n"
    }
   },
   "outputs": [
    {
     "data": {
      "text/plain": "12"
     },
     "execution_count": 89,
     "metadata": {},
     "output_type": "execute_result"
    }
   ],
   "source": [
    "Sum_rd.first()"
   ]
  },
  {
   "cell_type": "markdown",
   "metadata": {
    "pycharm": {
     "name": "#%% md\n"
    }
   },
   "source": [
    "You should get `12`."
   ]
  },
  {
   "cell_type": "markdown",
   "metadata": {
    "pycharm": {
     "name": "#%% md\n"
    }
   },
   "source": [
    "<a id=\"trans3\"></a>\n",
    "### 4.3 Split and count text strings\n",
    "\n",
    "Create an RDD with a text string and show the first element:"
   ]
  },
  {
   "cell_type": "code",
   "execution_count": 36,
   "metadata": {
    "pycharm": {
     "name": "#%%\n"
    }
   },
   "outputs": [
    {
     "data": {
      "text/plain": "\"Hello Human. I'm Spark and I love running analysis on data.\""
     },
     "execution_count": 36,
     "metadata": {},
     "output_type": "execute_result"
    }
   ],
   "source": [
    "Words = [\"Hello Human. I'm Spark and I love running analysis on data.\"]\n",
    "words_rd = spark.sparkContext.parallelize(Words)\n",
    "words_rd.first()"
   ]
  },
  {
   "cell_type": "markdown",
   "metadata": {
    "pycharm": {
     "name": "#%% md\n"
    }
   },
   "source": [
    "Split the string into separate lines at the space characters and look at the first element:"
   ]
  },
  {
   "cell_type": "code",
   "execution_count": 38,
   "metadata": {
    "pycharm": {
     "name": "#%%\n"
    }
   },
   "outputs": [
    {
     "data": {
      "text/plain": "['Hello',\n 'Human.',\n \"I'm\",\n 'Spark',\n 'and',\n 'I',\n 'love',\n 'running',\n 'analysis',\n 'on',\n 'data.']"
     },
     "execution_count": 38,
     "metadata": {},
     "output_type": "execute_result"
    }
   ],
   "source": [
    "# TODO: Replace <FILL IN> with appropriate code\n",
    "\n",
    "Words_rd2 = words_rd.map(lambda line: line.split(' '))\n",
    "Words_rd2.first()"
   ]
  },
  {
   "cell_type": "markdown",
   "metadata": {
    "pycharm": {
     "name": "#%% md\n"
    }
   },
   "source": [
    "Count the number of elements in this RDD with the `count()` method:"
   ]
  },
  {
   "cell_type": "code",
   "execution_count": 39,
   "metadata": {
    "pycharm": {
     "name": "#%%\n"
    }
   },
   "outputs": [
    {
     "data": {
      "text/plain": "1"
     },
     "execution_count": 39,
     "metadata": {},
     "output_type": "execute_result"
    }
   ],
   "source": [
    "Words_rd2.count()"
   ]
  },
  {
   "cell_type": "markdown",
   "metadata": {
    "pycharm": {
     "name": "#%% md\n"
    }
   },
   "source": [
    "You should get `1`."
   ]
  },
  {
   "cell_type": "markdown",
   "metadata": {
    "pycharm": {
     "name": "#%% md\n"
    }
   },
   "source": [
    "Of course, you already knew that there was only one element because you ran the `first()` method and it returned the whole string. Splitting the string into multiple lines did not create multiple elements."
   ]
  },
  {
   "cell_type": "markdown",
   "metadata": {
    "pycharm": {
     "name": "#%% md\n"
    }
   },
   "source": [
    "Now split the string again, but this time with the `flatmap()` method, and look at the first three elements:"
   ]
  },
  {
   "cell_type": "code",
   "execution_count": 40,
   "metadata": {
    "pycharm": {
     "name": "#%%\n"
    }
   },
   "outputs": [
    {
     "data": {
      "text/plain": "['Hello', 'Human.', \"I'm\"]"
     },
     "execution_count": 40,
     "metadata": {},
     "output_type": "execute_result"
    }
   ],
   "source": [
    "# TODO: Replace <FILL IN> with appropriate code\n",
    "\n",
    "words_rd2 = words_rd.flatMap(lambda line: line.split(' '))\n",
    "words_rd2.take(3)"
   ]
  },
  {
   "cell_type": "code",
   "execution_count": 41,
   "metadata": {
    "pycharm": {
     "name": "#%%\n"
    }
   },
   "outputs": [
    {
     "data": {
      "text/plain": "11"
     },
     "execution_count": 41,
     "metadata": {},
     "output_type": "execute_result"
    }
   ],
   "source": [
    "words_rd2.count()"
   ]
  },
  {
   "cell_type": "markdown",
   "metadata": {
    "pycharm": {
     "name": "#%% md\n"
    }
   },
   "source": [
    "You should get `11`.\n",
    "This time each word is separated into its own element."
   ]
  },
  {
   "cell_type": "markdown",
   "metadata": {
    "pycharm": {
     "name": "#%% md\n"
    }
   },
   "source": [
    "<a id=\"trans4\"></a>\n",
    "### 4.4 Count words with a pair RDD\n",
    "A common way to count the number of instances of words in an RDD is to create a pair RDD. A pair RDD converts each word into a key-value pair: the word is the key and the number 1 is the value. Because the values are all 1, when you add the  values for a particular word, you get the number of instances of that word.\n",
    "\n",
    "Create an RDD:"
   ]
  },
  {
   "cell_type": "code",
   "execution_count": 42,
   "metadata": {
    "pycharm": {
     "name": "#%%\n"
    }
   },
   "outputs": [
    {
     "data": {
      "text/plain": "'First,Line'"
     },
     "execution_count": 42,
     "metadata": {},
     "output_type": "execute_result"
    }
   ],
   "source": [
    "z = [\"First,Line\", \"Second,Line\", \"and,Third,Line\"]\n",
    "z_str_rdd = spark.sparkContext.parallelize(z)\n",
    "z_str_rdd.first()"
   ]
  },
  {
   "cell_type": "code",
   "execution_count": 23,
   "outputs": [],
   "source": [
    "# TODO: Replace <FILL IN> with appropriate code\n",
    "\n",
    "x_nbr_rdd_2 = x_nbr_rdd.map(lambda x: x+1)"
   ],
   "metadata": {
    "collapsed": false,
    "pycharm": {
     "name": "#%%\n"
    }
   }
  },
  {
   "cell_type": "markdown",
   "metadata": {
    "pycharm": {
     "name": "#%% md\n"
    }
   },
   "source": [
    "Split the elements into individual words with the `flatmap()` method:"
   ]
  },
  {
   "cell_type": "code",
   "execution_count": 43,
   "metadata": {
    "pycharm": {
     "name": "#%%\n"
    }
   },
   "outputs": [
    {
     "data": {
      "text/plain": "['First', 'Line', 'Second', 'Line', 'and', 'Third', 'Line']"
     },
     "execution_count": 43,
     "metadata": {},
     "output_type": "execute_result"
    }
   ],
   "source": [
    "z_str_rdd_split_flatmap = z_str_rdd.flatMap(lambda line: line.split(\",\"))\n",
    "z_str_rdd_split_flatmap.collect()"
   ]
  },
  {
   "cell_type": "markdown",
   "metadata": {
    "pycharm": {
     "name": "#%% md\n"
    }
   },
   "source": [
    "Convert the elements into key-value pairs:"
   ]
  },
  {
   "cell_type": "code",
   "execution_count": 47,
   "metadata": {
    "pycharm": {
     "name": "#%%\n"
    }
   },
   "outputs": [
    {
     "data": {
      "text/plain": "[('First', 1),\n ('Line', 1),\n ('Second', 1),\n ('Line', 1),\n ('and', 1),\n ('Third', 1),\n ('Line', 1)]"
     },
     "execution_count": 47,
     "metadata": {},
     "output_type": "execute_result"
    }
   ],
   "source": [
    "countWords = z_str_rdd_split_flatmap.map(lambda word: (word,1))\n",
    "countWords.collect()"
   ]
  },
  {
   "cell_type": "markdown",
   "metadata": {
    "pycharm": {
     "name": "#%% md\n"
    }
   },
   "source": [
    "Now sum all the values by key to find the number of instances for each word: "
   ]
  },
  {
   "cell_type": "code",
   "execution_count": 45,
   "metadata": {
    "pycharm": {
     "name": "#%%\n"
    }
   },
   "outputs": [
    {
     "data": {
      "text/plain": "[('Line', 3), ('Second', 1), ('First', 1), ('and', 1), ('Third', 1)]"
     },
     "execution_count": 45,
     "metadata": {},
     "output_type": "execute_result"
    }
   ],
   "source": [
    "from operator import add\n",
    "countWords2 = countWords.reduceByKey(add)\n",
    "countWords2.collect()"
   ]
  },
  {
   "cell_type": "markdown",
   "metadata": {
    "pycharm": {
     "name": "#%% md\n"
    }
   },
   "source": [
    "Notice that the word `Line` has a count of 3."
   ]
  },
  {
   "cell_type": "markdown",
   "metadata": {
    "pycharm": {
     "name": "#%% md\n"
    }
   },
   "source": [
    "<a id=\"filter\"></a>\n",
    "## 5. Filter data\n",
    "\n",
    "The filter command creates a new RDD from another RDD based on a filter criteria.\n",
    "The filter syntax is: \n",
    "\n",
    "`.filter(lambda line: \"Filter Criteria Value\" in line)`\n",
    "\n",
    "Hint: Use a simple python `print` command to add a string to your Spark results and to run multiple actions in single cell.\n",
    "\n",
    "Find the number of instances of the word `Line` in the `z_str_rdd_split_flatmap` RDD:"
   ]
  },
  {
   "cell_type": "code",
   "execution_count": 48,
   "metadata": {
    "pycharm": {
     "name": "#%%\n"
    }
   },
   "outputs": [
    {
     "name": "stdout",
     "output_type": "stream",
     "text": [
      "The count of words Line\n",
      "Is: 3\n"
     ]
    }
   ],
   "source": [
    "# TODO: Replace <FILL IN> with appropriate code\n",
    "\n",
    "words_rd3 = z_str_rdd_split_flatmap.filter(lambda line: 'Line' in line)\n",
    "\n",
    "print (\"The count of words \" + str(words_rd3.first()))\n",
    "print (\"Is: \" + str(words_rd3.count()))"
   ]
  },
  {
   "cell_type": "markdown",
   "metadata": {
    "pycharm": {
     "name": "#%% md\n"
    }
   },
   "source": [
    "You should get `3`."
   ]
  },
  {
   "cell_type": "markdown",
   "metadata": {
    "pycharm": {
     "name": "#%% md\n"
    }
   },
   "source": [
    "<a id=\"wordfile\"></a>\n",
    "## 6. Analyze text data from a file\n",
    "In this section, you'll use a text file `README.txt` to create an RDD from it, and analyze the text in it. The file should already exist on `files`folder next to this notebook."
   ]
  },
  {
   "cell_type": "markdown",
   "metadata": {
    "pycharm": {
     "name": "#%% md\n"
    }
   },
   "source": [
    "<a id=\"wordfile2\"></a>\n",
    "### 6.2 Create an RDD from the file\n",
    "Use the `textFile` method to create an RDD named `textfile_rdd` based on the `README.txt` file. The RDD will contain one element for each line in the `README.txt` file.\n",
    "Also, count the number of lines in the RDD, which is the same as the number of lines in the text file. "
   ]
  },
  {
   "cell_type": "code",
   "execution_count": 25,
   "metadata": {
    "pycharm": {
     "name": "#%%\n"
    }
   },
   "outputs": [
    {
     "data": {
      "text/plain": "98"
     },
     "execution_count": 25,
     "metadata": {},
     "output_type": "execute_result"
    }
   ],
   "source": [
    "textfile_rdd = spark.sparkContext.textFile(\"files/README.txt\")\n",
    "textfile_rdd.count()"
   ]
  },
  {
   "cell_type": "markdown",
   "metadata": {
    "pycharm": {
     "name": "#%% md\n"
    }
   },
   "source": [
    "<a id=\"wordfile3\"></a>\n",
    "### 6.3 Filter for a word \n",
    "Filter the RDD to keep only the elements that contain the word \"Spark\" with the `filter` transformation:"
   ]
  },
  {
   "cell_type": "code",
   "execution_count": 26,
   "metadata": {
    "pycharm": {
     "name": "#%%\n"
    }
   },
   "outputs": [
    {
     "data": {
      "text/plain": "'# Apache Spark'"
     },
     "execution_count": 26,
     "metadata": {},
     "output_type": "execute_result"
    }
   ],
   "source": [
    "# TODO: Replace <FILL IN> with appropriate code\n",
    "\n",
    "Spark_lines = textfile_rdd.filter(lambda line: 'Spark' in line)\n",
    "Spark_lines.first()"
   ]
  },
  {
   "cell_type": "markdown",
   "metadata": {
    "pycharm": {
     "name": "#%% md\n"
    }
   },
   "source": [
    "You should see `'# Apache Spark'`"
   ]
  },
  {
   "cell_type": "markdown",
   "metadata": {
    "pycharm": {
     "name": "#%% md\n"
    }
   },
   "source": [
    "Count the number of elements in this filtered RDD and present the result as a concatenated string:"
   ]
  },
  {
   "cell_type": "code",
   "execution_count": 27,
   "metadata": {
    "pycharm": {
     "name": "#%%\n"
    }
   },
   "outputs": [
    {
     "name": "stdout",
     "output_type": "stream",
     "text": [
      "The file README.txt has 19 of 98 Lines with word Spark in it.\n"
     ]
    }
   ],
   "source": [
    "# TODO: Replace <FILL IN> with appropriate code\n",
    "\n",
    "print (\"The file README.txt has \" + str(Spark_lines.count()) + \\\n",
    "\" of \" + str(textfile_rdd.count()) + \\\n",
    "\" Lines with word Spark in it.\")"
   ]
  },
  {
   "cell_type": "markdown",
   "metadata": {
    "pycharm": {
     "name": "#%% md\n"
    }
   },
   "source": [
    "You should see `The file README.txt has 19 of 98 Lines with word Spark in it.`"
   ]
  },
  {
   "cell_type": "markdown",
   "metadata": {
    "pycharm": {
     "name": "#%% md\n"
    }
   },
   "source": [
    "<a id=\"wordfile4\"></a>\n",
    "### 6.4 Count the instances of a string at the beginning of words\n",
    "Count the number of times the substring \"Spark\" appears at the beginning of a word in the original text.\n",
    "\n",
    "Here's what you need to do: \n",
    "\n",
    "1. Run a `flatMap` transformation on the Spark_lines RDD and split on white spaces.\n",
    "2. Create an RDD with key-value pairs where the first element of the tuple is the word and the second element is the number 1.\n",
    "3. Run a `reduceByKey` method with the `add` function to count the number of instances of each word.<br>\n",
    "4. Filter the resulting RDD to keep only the elements that start with the word \"Spark\". In Python, the syntax to determine whether a string starts with a token is: `string.startswith(\"token\")` \n",
    "5. Display the resulting list of elements that start with \"Spark\"."
   ]
  },
  {
   "cell_type": "code",
   "execution_count": 36,
   "metadata": {
    "pycharm": {
     "name": "#%%\n"
    }
   },
   "outputs": [
    {
     "data": {
      "text/plain": "[('Spark', 14),\n ('Spark\"](http://spark.apache.org/docs/latest/building-spark.html).', 1),\n ('SparkPi', 2),\n ('Spark](#building-spark).', 1),\n ('Spark.', 1)]"
     },
     "execution_count": 36,
     "metadata": {},
     "output_type": "execute_result"
    }
   ],
   "source": [
    "# TODO: write your code here.\n",
    "Spark_lines_s = Spark_lines.flatMap(lambda l: l.split(' '))\n",
    "Spark_lines_sd = Spark_lines_s.map(lambda l: (l,1))\n",
    "Spark_lines_sdr = Spark_lines_sd.reduceByKey(lambda a,b : a+b)\n",
    "Spark_lines_sdrs = Spark_lines_sdr.filter(lambda line: line[0].startswith('Spark'))\n",
    "Spark_lines_sdrs.collect()"
   ]
  },
  {
   "cell_type": "markdown",
   "metadata": {
    "pycharm": {
     "name": "#%% md\n"
    }
   },
   "source": [
    "You should see:<br>\n",
    "<pre>\n",
    "[('Spark', 14),\n",
    " ('Spark\"](http://spark.apache.org/docs/latest/building-spark.html).', 1),\n",
    " ('SparkPi', 2),\n",
    " ('Spark](#building-spark).', 1),\n",
    " ('Spark.', 1)]\n",
    "</pre>"
   ]
  },
  {
   "cell_type": "markdown",
   "metadata": {
    "pycharm": {
     "name": "#%% md\n"
    }
   },
   "source": [
    "<a id=\"wordfile5\"></a>\n",
    "### 6.5 Count instances of a string within words\n",
    "Now filter and display the elements that contain the substring \"Spark\" anywhere in the word, instead of just at the beginning of words like the last section. Your result should be a superset of the previous result.\n",
    "\n",
    "The Python syntax to determine whether a string contains a particular token is: `\"token\" in string`"
   ]
  },
  {
   "cell_type": "code",
   "execution_count": 37,
   "metadata": {
    "pycharm": {
     "name": "#%%\n"
    }
   },
   "outputs": [
    {
     "data": {
      "text/plain": "[('Spark', 14),\n ('Spark\"](http://spark.apache.org/docs/latest/building-spark.html).', 1),\n ('SparkPi', 2),\n ('Spark](#building-spark).', 1),\n ('Spark.', 1),\n ('tests](https://cwiki.apache.org/confluence/display/SPARK/Contributing+to+Spark#ContributingtoSpark-AutomatedTesting).',\n  1)]"
     },
     "execution_count": 37,
     "metadata": {},
     "output_type": "execute_result"
    }
   ],
   "source": [
    "# TODO: write your code here.\n",
    "Spark_lines_sdrss = Spark_lines_sdr.filter(lambda line: 'Spark' in line[0])\n",
    "Spark_lines_sdrss.collect()"
   ]
  },
  {
   "cell_type": "markdown",
   "metadata": {
    "pycharm": {
     "name": "#%% md\n"
    }
   },
   "source": [
    "You should see:\n",
    "<pre>\n",
    "[('Spark', 14),\n",
    " ('Spark\"](http://spark.apache.org/docs/latest/building-spark.html).', 1),\n",
    " ('SparkPi', 2),\n",
    " ('Spark](#building-spark).', 1),\n",
    " ('Spark.', 1),\n",
    " ('tests](https://cwiki.apache.org/confluence/display/SPARK/Contributing+to+Spark#ContributingtoSpark-AutomatedTesting).',\n",
    "  1)]\n",
    "</pre>"
   ]
  },
  {
   "cell_type": "markdown",
   "metadata": {
    "pycharm": {
     "name": "#%% md\n"
    }
   },
   "source": [
    "<a id=\"numfile\"></a>\n",
    "## 7. Analyze numeric data from a file\n",
    "You'll analyze a sample file `Scores.txt` given in `files` folder that contains instructor names and scores. The file has the following format: Instructor Name,Score1,Score2,Score3,Score4,... The number of scores for each instructor could be diferent.\n",
    "Here is an example line from the text file: \"Carlo,5.5,3,3,4\" or \"Pablo,9,10,8.6,7,9,5,6\"\n",
    "Your task is to look at all the scores from each instructor and find the maximum score given by each instructor:\n",
    "\n",
    "1. Load the text file into an RDD.\n",
    "1. Run a transformation to create an RDD with the instructor names and the scores per instructor.\n",
    "1. Run a second transformation to compute the maximum score for each instructor.\n",
    "1. Display the results."
   ]
  },
  {
   "cell_type": "code",
   "execution_count": 87,
   "metadata": {
    "pycharm": {
     "name": "#%%\n"
    }
   },
   "outputs": [
    {
     "data": {
      "text/plain": "[('Tobias', 8.0),\n ('Malin', 10.0),\n ('Ali', 8.7),\n ('Magnus', 5.0),\n ('Alice', 9.1),\n ('Jack', 7.4)]"
     },
     "execution_count": 87,
     "metadata": {},
     "output_type": "execute_result"
    }
   ],
   "source": [
    "# TODO: write your code here.\n",
    "data = spark.sparkContext.textFile(\"files/Scores.txt\")\n",
    "datac = data.map(lambda y: y.split(',',1))\n",
    "datad = datac.map(lambda y: (y[0], [float(i) for i in y[1].split(',')] ))\n",
    "dataf = datad.map(lambda y: (y[0], max(y[1])))\n",
    "dataf.collect()"
   ]
  },
  {
   "cell_type": "markdown",
   "metadata": {
    "pycharm": {
     "name": "#%% md\n"
    }
   },
   "source": [
    "You should see:\n",
    "<pre>\n",
    "[('Tobias', 8.0),\n",
    " ('Malin', 10.0),\n",
    " ('Ali', 8.7),\n",
    " ('Magnus', 5.0),\n",
    " ('Alice', 9.1),\n",
    " ('Jack', 7.4)]\n",
    "</pre>"
   ]
  },
  {
   "cell_type": "markdown",
   "metadata": {
    "pycharm": {
     "name": "#%% md\n"
    }
   },
   "source": [
    "## 8. PageRank Algorithm\n",
    "\n",
    "In the final task, we are interested in using Spark to rank a list of websites based on their importance. One obvious application of such an analysis is to provide the ordering for web searches. To measure the importance of a page, you are tasked to calculate `PageRank`. PageRank works by counting the number and quality of links to a page to determine a rough estimate of how important the website is. The underlying assumption is that more important websites are likely to receive more links from other websites. The PageRank algorithm is very well described in Chapter 5 of the book `Mining Massive Data Sets`. You can access the book through [this link](http://www.mmds.org/).\n",
    "\n",
    "The websites are stored in a file named `urls.txt` located in the `files` folder. The input file has the following format:\n",
    "\n",
    "<pre>\n",
    "URL, neighbor URL\n",
    "URL, neighbor URL\n",
    "URL, neighbor URL\n",
    "...\n",
    "</pre>\n",
    "\n",
    "\n",
    "In the output, sort the websites descending based on their level of importance."
   ]
  },
  {
   "cell_type": "code",
   "execution_count": 179,
   "outputs": [],
   "source": [
    "def computeContribs(urls, rank):\n",
    "    \"\"\"Calculates URL contributions to the rank of other URLs.\"\"\"\n",
    "    num_urls = len(urls)\n",
    "    for url in urls:\n",
    "        yield (url, rank / num_urls)"
   ],
   "metadata": {
    "collapsed": false,
    "pycharm": {
     "name": "#%%\n"
    }
   }
  },
  {
   "cell_type": "code",
   "execution_count": 191,
   "outputs": [
    {
     "data": {
      "text/plain": "[('halmstad.se',\n  ['google.com',\n   'wikipedia.org',\n   'twitter.com',\n   'yelp.com',\n   'apple.com',\n   'hh.se',\n   'imdb.com',\n   'blocket.se',\n   'halmstad.se',\n   'instagram.com',\n   'youtube.com',\n   'wiktionary.org',\n   'amazon.com']),\n ('imdb.com',\n  ['wikipedia.org',\n   'twitter.com',\n   'google.com',\n   'instagram.com',\n   'urbandictionary.com',\n   'apple.com',\n   'youtube.com',\n   'facebook.com',\n   'wiktionary.org']),\n ('apple.com',\n  ['merriam-webster.com',\n   'visithalland.com',\n   'google.com',\n   'wikipedia.org',\n   'twitter.com',\n   'imdb.com',\n   'amazon.com',\n   'facebook.com',\n   'youtube.com']),\n ('merriam-webster.com',\n  ['wikipedia.org',\n   'blocket.se',\n   'tripadvisor.com',\n   'apple.com',\n   'twitter.com',\n   'google.com',\n   'imdb.com',\n   'youtube.com',\n   'amazon.com',\n   'facebook.com',\n   'fandom.com']),\n ('wikipedia.org',\n  ['wikipedia.org',\n   'hh.se',\n   'twitter.com',\n   'google.com',\n   'merriam-webster.com',\n   'tripadvisor.com',\n   'youtube.com',\n   'facebook.com',\n   'fandom.com',\n   'amazon.com']),\n ('instagram.com',\n  ['wikipedia.org',\n   'apple.com',\n   'tripadvisor.com',\n   'twitter.com',\n   'google.com',\n   'halmstad.se',\n   'merriam-webster.com',\n   'youtube.com',\n   'amazon.com',\n   'wiktionary.org',\n   'facebook.com',\n   'fandom.com']),\n ('blocket.se',\n  ['wikipedia.org',\n   'twitter.com',\n   'instagram.com',\n   'google.com',\n   'yelp.com',\n   'merriam-webster.com',\n   'apple.com',\n   'facebook.com',\n   'amazon.com',\n   'youtube.com']),\n ('tripadvisor.com',\n  ['google.com',\n   'wikipedia.org',\n   'twitter.com',\n   'hh.se',\n   'merriam-webster.com',\n   'urbandictionary.com',\n   'imdb.com',\n   'amazon.com',\n   'facebook.com',\n   'youtube.com']),\n ('twitter.com',\n  ['apple.com',\n   'google.com',\n   'wikipedia.org',\n   'twitter.com',\n   'imdb.com',\n   'blocket.se',\n   'wiktionary.org',\n   'facebook.com',\n   'youtube.com']),\n ('google.com',\n  ['wikipedia.org',\n   'imdb.com',\n   'google.com',\n   'twitter.com',\n   'merriam-webster.com',\n   'urbandictionary.com',\n   'amazon.com',\n   'youtube.com',\n   'facebook.com']),\n ('hh.se',\n  ['wikipedia.org',\n   'imdb.com',\n   'twitter.com',\n   'google.com',\n   'merriam-webster.com',\n   'yelp.com',\n   'youtube.com',\n   'facebook.com']),\n ('urbandictionary.com',\n  ['instagram.com',\n   'wikipedia.org',\n   'google.com',\n   'twitter.com',\n   'imdb.com',\n   'fandom.com',\n   'facebook.com',\n   'amazon.com',\n   'youtube.com']),\n ('visithalland.com',\n  ['google.com',\n   'apple.com',\n   'wikipedia.org',\n   'twitter.com',\n   'merriam-webster.com',\n   'yelp.com',\n   'imdb.com',\n   'youtube.com',\n   'wiktionary.org',\n   'fandom.com',\n   'amazon.com']),\n ('yelp.com',\n  ['wikipedia.org',\n   'imdb.com',\n   'merriam-webster.com',\n   'tripadvisor.com',\n   'apple.com',\n   'google.com',\n   'twitter.com',\n   'youtube.com',\n   'amazon.com',\n   'facebook.com',\n   'fandom.com']),\n ('wiktionary.org',\n  ['youtube.com',\n   'facebook.com',\n   'wiktionary.org',\n   'fandom.com',\n   'amazon.com',\n   'wikipedia.org',\n   'twitter.com',\n   'google.com',\n   'merriam-webster.com',\n   'yelp.com',\n   'blocket.se',\n   'apple.com']),\n ('youtube.com',\n  ['fandom.com',\n   'youtube.com',\n   'amazon.com',\n   'facebook.com',\n   'tripadvisor.com',\n   'wikipedia.org',\n   'google.com',\n   'imdb.com',\n   'twitter.com']),\n ('facebook.com',\n  ['youtube.com',\n   'facebook.com',\n   'amazon.com',\n   'fandom.com',\n   'merriam-webster.com',\n   'imdb.com',\n   'wikipedia.org',\n   'urbandictionary.com',\n   'google.com',\n   'tripadvisor.com']),\n ('fandom.com',\n  ['facebook.com',\n   'wiktionary.org',\n   'tripadvisor.com',\n   'merriam-webster.com',\n   'google.com',\n   'urbandictionary.com',\n   'wikipedia.org',\n   'apple.com']),\n ('amazon.com',\n  ['facebook.com',\n   'youtube.com',\n   'fandom.com',\n   'amazon.com',\n   'wiktionary.org',\n   'wikipedia.org',\n   'instagram.com',\n   'google.com',\n   'twitter.com',\n   'apple.com',\n   'tripadvisor.com',\n   'yelp.com',\n   'imdb.com'])]"
     },
     "execution_count": 191,
     "metadata": {},
     "output_type": "execute_result"
    }
   ],
   "source": [
    "lines = spark.sparkContext.textFile('files/urls_link.txt')\n",
    "links = lines.map(lambda urls: (urls.split(', ')[0], urls.split(', ')[1])).distinct().groupByKey().map(lambda line: (line[0], list(line[1]))).cache()\n",
    "links.collect()"
   ],
   "metadata": {
    "collapsed": false,
    "pycharm": {
     "name": "#%%\n"
    }
   }
  },
  {
   "cell_type": "code",
   "execution_count": 192,
   "outputs": [
    {
     "data": {
      "text/plain": "[('halmstad.se', 1.0),\n ('imdb.com', 1.0),\n ('apple.com', 1.0),\n ('merriam-webster.com', 1.0),\n ('wikipedia.org', 1.0),\n ('instagram.com', 1.0),\n ('blocket.se', 1.0),\n ('tripadvisor.com', 1.0),\n ('twitter.com', 1.0),\n ('google.com', 1.0),\n ('hh.se', 1.0),\n ('urbandictionary.com', 1.0),\n ('visithalland.com', 1.0),\n ('yelp.com', 1.0),\n ('wiktionary.org', 1.0),\n ('youtube.com', 1.0),\n ('facebook.com', 1.0),\n ('fandom.com', 1.0),\n ('amazon.com', 1.0)]"
     },
     "execution_count": 192,
     "metadata": {},
     "output_type": "execute_result"
    }
   ],
   "source": [
    "ranks = links.map(lambda url_neighbors: (url_neighbors[0], 1.0))\n",
    "ranks.collect()"
   ],
   "metadata": {
    "collapsed": false,
    "pycharm": {
     "name": "#%%\n"
    }
   }
  },
  {
   "cell_type": "code",
   "execution_count": 193,
   "outputs": [],
   "source": [
    "from operator import add\n",
    "for iteration in range(5):\n",
    "        # Calculates URL contributions to the rank of other URLs.\n",
    "        contribs = links.join(ranks).flatMap(lambda url_urls_rank: computeContribs(url_urls_rank[1][0], url_urls_rank[1][1]))\n",
    "\n",
    "        # Re-calculates URL ranks based on neighbor contributions.\n",
    "        links_ranks = contribs.reduceByKey(add).mapValues(lambda rank: rank * 0.85 + 0.15)\n",
    "\n"
   ],
   "metadata": {
    "collapsed": false,
    "pycharm": {
     "name": "#%%\n"
    }
   }
  },
  {
   "cell_type": "code",
   "execution_count": 194,
   "outputs": [
    {
     "name": "stdout",
     "output_type": "stream",
     "text": [
      "google.com PageRank: 1.7734207459207458.\n",
      "wikipedia.org PageRank: 1.7734207459207458.\n",
      "youtube.com PageRank: 1.6671707459207457.\n",
      "facebook.com PageRank: 1.630763403263403.\n",
      "twitter.com PageRank: 1.582170745920746.\n",
      "amazon.com PageRank: 1.372031857031857.\n",
      "imdb.com PageRank: 1.2610596348096346.\n",
      "merriam-webster.com PageRank: 1.18760101010101.\n",
      "apple.com PageRank: 1.0343929681429682.\n",
      "fandom.com PageRank: 0.9477583527583529.\n",
      "tripadvisor.com PageRank: 0.8114578477078477.\n",
      "wiktionary.org PageRank: 0.7948475135975136.\n",
      "yelp.com PageRank: 0.6201252913752913.\n",
      "urbandictionary.com PageRank: 0.6151388888888889.\n",
      "instagram.com PageRank: 0.5546581196581196.\n",
      "blocket.se PageRank: 0.4579351204351204.\n",
      "hh.se PageRank: 0.3853846153846154.\n",
      "halmstad.se PageRank: 0.2862179487179487.\n",
      "visithalland.com PageRank: 0.24444444444444444.\n"
     ]
    }
   ],
   "source": [
    "links_ranks_sorted = links_ranks.sortBy(lambda x: -x[1])\n",
    "for (link, rank) in links_ranks_sorted.collect():\n",
    "        print(\"%s PageRank: %s.\" % (link, rank))"
   ],
   "metadata": {
    "collapsed": false,
    "pycharm": {
     "name": "#%%\n"
    }
   }
  },
  {
   "cell_type": "markdown",
   "metadata": {
    "pycharm": {
     "name": "#%% md\n"
    }
   },
   "source": [
    "The `PageRank` algorithm has some variants. Based on how you implement the algorithm and the parameters you choose, you will end up geting different scores and ranks. Following is one example output. Make sure your produced ranking makes sense, e.g. `google.com` should recieve higher score compared to `merriam-webster.com`.\n",
    "\n",
    "<pre>\n",
    "1) google.com PageRank:1.8086487117025336\n",
    "2) wikipedia.org PageRank:1.8086487117025336\n",
    "3) facebook.com PageRank:1.777648228912891\n",
    "4) youtube.com PageRank:1.7021245199883723\n",
    "5) twitter.com PageRank:1.5510244219266531\n",
    "6) amazon.com PageRank:1.3904212544003804\n",
    "7) imdb.com PageRank:1.3008511398069642\n",
    "8) merriam-webster.com PageRank:1.1146111418335307\n",
    "9) fandom.com PageRank:1.002580594391505\n",
    "10) tripadvisor.com PageRank:0.9650177901770668\n",
    "11) apple.com PageRank:0.889833856208652\n",
    "12) urbandictionary.com PageRank:0.783325788483356\n",
    "13) wiktionary.org PageRank:0.7344188304535614\n",
    "14) instagram.com PageRank:0.488708566583417\n",
    "15) blocket.se PageRank:0.4475515972949302\n",
    "16) yelp.com PageRank:0.40433532158209406\n",
    "17) hh.se PageRank:0.3986772304305001\n",
    "18) visithalland.com PageRank:0.2340398586683635\n",
    "19) halmstad.se PageRank:0.19753243545269022\n",
    "</pre>"
   ]
  },
  {
   "cell_type": "markdown",
   "metadata": {
    "pycharm": {
     "name": "#%% md\n"
    }
   },
   "source": [
    "<div class=\"alert alert-block alert-danger\">\n",
    "\n",
    "__IMPORTANT__ \n",
    "\n",
    "Please complete this Jupyter Notebook file. Then __rename the file using following format__:  \"`BDPP_2022_Lab2_NameSurname_NameSurname.ipynb`\" and submit it to the BalckBoard __within the specified deadline in blackboard__. \n",
    "\n",
    "</div>"
   ]
  }
 ],
 "metadata": {
  "kernelspec": {
   "display_name": "Python 3",
   "language": "python",
   "name": "python3"
  },
  "language_info": {
   "codemirror_mode": {
    "name": "ipython",
    "version": 3
   },
   "file_extension": ".py",
   "mimetype": "text/x-python",
   "name": "python",
   "nbconvert_exporter": "python",
   "pygments_lexer": "ipython3",
   "version": "3.7.3"
  }
 },
 "nbformat": 4,
 "nbformat_minor": 1
}